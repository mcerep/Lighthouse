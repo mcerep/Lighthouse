{
 "cells": [
  {
   "cell_type": "markdown",
   "id": "61e5a8a5",
   "metadata": {},
   "source": [
    "# Lighthouse Part 1\n",
    "By Matthew Cerep 1/28/25\n",
    "\n",
    "Welcome to the Lighthouse! This Jupyter notebook presumes you have no prior knowledge of python, and teaches you the basic functionalities of the language from the ground up! Read each section of texts, and then run the code block below it to see the code in action. **In Jupyter, you press `shift` and `enter` at the same time to run the code block.**\n",
    "\n",
    "Below, define your first variable as \"Hello World\" (quotation marks included), and press `shift` and `enter` at the same time to run your first code!"
   ]
  },
  {
   "cell_type": "code",
   "execution_count": 44,
   "id": "1effd7d9",
   "metadata": {},
   "outputs": [
    {
     "name": "stdout",
     "output_type": "stream",
     "text": [
      "Hello World!\n"
     ]
    }
   ],
   "source": [
    "#write \"Hello World!\" below\n",
    "FirstVariable = \"Hello World!\"\n",
    "\n",
    "print(FirstVariable)"
   ]
  },
  {
   "cell_type": "markdown",
   "id": "e26ef9e3",
   "metadata": {},
   "source": [
    "Congratulations, you've ran a python code! Aside from defining your first variable, note two things from this cell. \n",
    "\n",
    "First, the `print(variable)` function allows you to display the variable listed within the parentheses. You'll find yourself using it a lot!\n",
    "\n",
    "Second, notice the chunk of words after the `#`. These are called **comments**, and basically tells the computer to ignore the rest of the line after the `#`. You can use this to include notes directly in your code that may be useful to future users (or yourself!)."
   ]
  },
  {
   "cell_type": "markdown",
   "id": "696aa3c8",
   "metadata": {},
   "source": [
    "## Data Types\n",
    "\n",
    "You can set a variable equal to any data type, as we did above. Let's go through the most common data types."
   ]
  },
  {
   "cell_type": "markdown",
   "id": "9c9451c0",
   "metadata": {},
   "source": [
    "### Strings\n",
    "\n",
    "A string is simply the variable type for a collection of text. It is a series of numbers, letters, and punctuations together within quotation marks. For example, `\"GBT is HUGE!\"` is a string, as is `\"23414363567\"` (note the quotation marks!) or `\"1 2 3 4 5 numbers are fun :^)\"`. As astronomers, we won't work much with manipulating strings, but it's good to know they exist!\n",
    "\n",
    "A special type of string you'll find useful is called an **f string**. It looks like a normal string, except the first quotation mark is preceeded by an f. It allows you to include variables in strings by enclosing their variable names in brackets. It works something like this."
   ]
  },
  {
   "cell_type": "code",
   "execution_count": 45,
   "id": "fff92644",
   "metadata": {},
   "outputs": [
    {
     "name": "stdout",
     "output_type": "stream",
     "text": [
      "Emmy Noether was amazing!\n"
     ]
    }
   ],
   "source": [
    "FirstName = \"Emmy\"\n",
    "LastName = \"Noether\"\n",
    "\n",
    "phrase = f\"{FirstName} {LastName} was amazing!\"\n",
    "\n",
    "print(phrase)"
   ]
  },
  {
   "cell_type": "markdown",
   "id": "31d5a1f9",
   "metadata": {},
   "source": [
    "### Integers and Floats\n",
    "\n",
    "Integers and floats are the two main types of number variables. An integer is a number without a decimal, such as `42` or `206265`. A number with a decimal is called a float, such as `3.14` or `63.0` (yes, even if the decimal place is 0 it still counts as a float!). You can do math with these as expected, below are the basic rules. (Reminder, press shift+enter at the same time to run the code)."
   ]
  },
  {
   "cell_type": "code",
   "execution_count": 3,
   "id": "431523e7",
   "metadata": {},
   "outputs": [
    {
     "name": "stdout",
     "output_type": "stream",
     "text": [
      "1 + 2 = 3\n",
      "1 - 2 = -1\n",
      "1 * 2 = 2\n",
      "1 / 2 = 0.500000\n",
      "1 ^ 2 = 1\n"
     ]
    }
   ],
   "source": [
    "#enter any 2 numbers you would like below!\n",
    "num1 = 1\n",
    "num2 = 2\n",
    "\n",
    "added = num1 + num2 #this is how you add\n",
    "subtracted = num1 - num2 #this is how you subtract\n",
    "multiplied = num1 * num2 #this is how you multiply\n",
    "divided = num1 / num2 #this is how you divide\n",
    "exponent = num1 ** num2 #this is how you use exponents\n",
    "\n",
    "#You can ignore what's going on below for the time being. \n",
    "print(f\"{num1} + {num2} = {added}\")\n",
    "print(f\"{num1} - {num2} = {subtracted}\")\n",
    "print(f\"{num1} * {num2} = {multiplied}\")\n",
    "print(f\"{num1} / {num2} = {divided:f}\")\n",
    "print(f\"{num1} ^ {num2} = {exponent}\")"
   ]
  },
  {
   "cell_type": "markdown",
   "id": "e02df55f",
   "metadata": {},
   "source": [
    "### Modulo Operator\n",
    "\n",
    "A mathematical operation you may be less familiar with is `%`, called the **modulo operator**. It may seem a bit tricky at first, but if you understand division, you will understand it!\n",
    "\n",
    "`%` works like the division symbol `/`, except instead of returning the result of the first number divided by the second, it return the remainder of that division. For example,\n",
    "\n",
    "\\begin{equation}\n",
    "    22 \\space \\div \\space 5 = 4.4\n",
    "\\end{equation}\n",
    "\n",
    "or, equivalently (though less commonly seen),\n",
    "\n",
    "\\begin{equation}\n",
    "    22 \\space \\div \\space 5 = 4 \\space \\text{R} \\space 2 \\space.\n",
    "\\end{equation}\n",
    "\n",
    "Since 22 items can be grouped into 4 sets of 5 with 2 left over (the \"remainder\", which is specified by the value after the $\\text{R}$).\n",
    "\n",
    "`%` works similarly, except it returns only the remainder, so,\n",
    "\n",
    "\\begin{equation}\n",
    "    22 \\space \\% \\space 5 = 2 \\space.\n",
    "\\end{equation}\n",
    "\n",
    "Below are a few more examples of the modulo operator in action!"
   ]
  },
  {
   "cell_type": "code",
   "execution_count": 5,
   "id": "03124213",
   "metadata": {},
   "outputs": [
    {
     "name": "stdout",
     "output_type": "stream",
     "text": [
      "2\n",
      "3\n",
      "1\n",
      "8\n"
     ]
    }
   ],
   "source": [
    "print(22 % 5) #This will give 2\n",
    "print(7 % 4) #This will give 3\n",
    "print(50 % 7) #This will give 1\n",
    "print(17 % 9) #This will give 8"
   ]
  },
  {
   "cell_type": "markdown",
   "id": "f79b7a57",
   "metadata": {},
   "source": [
    "### Lists\n",
    "Picking out individual elements of a list is called **indexing** and works like this\n",
    "\n",
    "`a[0]` gives the first value in list `a`\n",
    "\n",
    "`a[1]` gives the second value in list `a`\n",
    "\n",
    "`a[n-1]` gives the nth value in list `a`\n",
    "\n",
    "`a[-1]` gives the last value in list `a`\n",
    "\n",
    "The main thing to remember is that, because of a quirk in how computer scientists count, you index the nth element in a list using n-1. So the 1st element is `a[0]`, the 2nd is `a[1]`, and so on. Another handy trick to remember is that indexing with -1, `a[-1]`, gives the last element in a list!"
   ]
  },
  {
   "cell_type": "code",
   "execution_count": 5,
   "id": "604b3f7a",
   "metadata": {},
   "outputs": [
    {
     "name": "stdout",
     "output_type": "stream",
     "text": [
      "First color: \n",
      "Second color: \n",
      "Third color: \n",
      "Fourth color: \n",
      "Fifth color: \n",
      "Last color: \n"
     ]
    }
   ],
   "source": [
    "#list 5 of your favorite colors as strings below\n",
    "ColorList = [\"\", \"\", \"\", \"\", \"\"]\n",
    "\n",
    "#You read off elements like this\n",
    "FirstColor = ColorList[0] #notice the first element is indexed with 0, not one!\n",
    "SecondColor = ColorList[1]\n",
    "ThirdColor = ColorList[2]\n",
    "FourthColor = ColorList[3]\n",
    "FifthColor = ColorList[4]\n",
    "LastColor = ColorList[-1] #notice you can index the last element of a list with -1. This is useful when you're not sure how long a list is!\n",
    "\n",
    "#Again, ignore what's happening below for now\n",
    "print(f\"First color: {FirstColor}\")\n",
    "print(f\"Second color: {SecondColor}\")\n",
    "print(f\"Third color: {ThirdColor}\")\n",
    "print(f\"Fourth color: {FourthColor}\")\n",
    "print(f\"Fifth color: {FifthColor}\")\n",
    "print(f\"Last color: {LastColor}\")"
   ]
  },
  {
   "cell_type": "markdown",
   "id": "54125253",
   "metadata": {},
   "source": [
    "Aside from indexing certain elements, you can pick out entire chunks of lists. This is called **slicing** and works like this:\n",
    "\n",
    "`a[start:stop]`  gives the elements in list `a` indexed start through stop - 1\n",
    "\n",
    "`a[start:]`      gives the elements in list `a` indexed  start through the rest of the array\n",
    "\n",
    "`a[:stop]`       gives the elements in list `a` indexed  from the beginning through stop - 1"
   ]
  },
  {
   "cell_type": "code",
   "execution_count": 6,
   "id": "2fb497c2",
   "metadata": {},
   "outputs": [
    {
     "name": "stdout",
     "output_type": "stream",
     "text": [
      "Colors after the first: ['blue', 'red', 'orange', 'pink']\n",
      "Colors before the the fifth: ['green', 'blue', 'red', 'orange']\n",
      "Colors after the first and before the fifth: ['blue', 'red', 'orange']\n"
     ]
    }
   ],
   "source": [
    "ListAfter1 = ColorList[1:] #this selects all colors after the 1st indexed color (the 2nd element)\n",
    "\n",
    "ListBefore5 = ColorList[:4] #this selects all colors before the 4th indexed color (the 5th element)\n",
    "\n",
    "ListMiddle = ColorList[1:4] #this selects all colors after the 1st indexed color (the 2nd element) and before the 4th indexed color (the 5th element)\n",
    "\n",
    "print(f\"Colors after the first: {ListAfter1}\")\n",
    "print(f\"Colors before the the fifth: {ListBefore5}\")\n",
    "print(f\"Colors after the first and before the fifth: {ListMiddle}\")"
   ]
  },
  {
   "cell_type": "markdown",
   "id": "70d00a11",
   "metadata": {},
   "source": [
    "You can also add a new element `b` onto the end of list `a` using `a.append(b)`, like this."
   ]
  },
  {
   "cell_type": "code",
   "execution_count": 7,
   "id": "5502721c",
   "metadata": {},
   "outputs": [
    {
     "name": "stdout",
     "output_type": "stream",
     "text": [
      "[1, 2, 3, 4, 5]\n",
      "[1, 2, 3, 4, 5, 6]\n"
     ]
    }
   ],
   "source": [
    "a = [1, 2, 3, 4, 5]\n",
    "b = 6\n",
    "\n",
    "print(a) #won't include b\n",
    "a.append(b)\n",
    "print(a) #will include b"
   ]
  },
  {
   "cell_type": "markdown",
   "id": "6b4b0d87",
   "metadata": {},
   "source": [
    "### Functions\n",
    "\n",
    "Sometimes we end up doing the same operation many times over. In these cases, it's useful to define a **function**. Functions are of the form `function(input)`, taking in some input and giving an output based on it. Note that it can take it any number of inputs, which are listed like this `newfunction(input1, input2, input3)` and so on. You define a function like this."
   ]
  },
  {
   "cell_type": "code",
   "execution_count": 8,
   "id": "70f5a6d7",
   "metadata": {},
   "outputs": [
    {
     "name": "stdout",
     "output_type": "stream",
     "text": [
      "7\n"
     ]
    }
   ],
   "source": [
    "def addnumbers(a,b): #name your function and its input variables, note the semicolon\n",
    "    \n",
    "    add = a + b #do the operation\n",
    "    \n",
    "    return add #tell the function what variable(s) to output\n",
    "\n",
    "num1 = 2\n",
    "num2 = 5\n",
    "added = addnumbers(num1, num2)\n",
    "\n",
    "print(added)"
   ]
  },
  {
   "cell_type": "markdown",
   "id": "f517a257",
   "metadata": {},
   "source": [
    "## Challenge\n",
    "\n",
    "You're out to eat with your friends and agree to split the check evenly. **Write a function that gives you the total amount each person owes for any number of friends and bill amount if you decide to tip 20% of the bill. Confirm that the function works as intended by showing a group of 7 friends with a \\\\$150 bill will pay \\\\$25.72 each**."
   ]
  },
  {
   "cell_type": "code",
   "execution_count": 47,
   "id": "120bb2ac",
   "metadata": {},
   "outputs": [
    {
     "name": "stdout",
     "output_type": "stream",
     "text": [
      "25.714285714285715\n"
     ]
    }
   ],
   "source": [
    "def amountperperson(bill, numpeople):\n",
    "    #write your code here!\n",
    "    return "
   ]
  },
  {
   "cell_type": "markdown",
   "id": "b47d9329",
   "metadata": {},
   "source": [
    "### For Loops\n",
    "\n",
    "Sometimes we want to repeat the same operation a number of times in a row. In these cases, **for loops** often come in handy. They work like this"
   ]
  },
  {
   "cell_type": "code",
   "execution_count": 6,
   "id": "30632d80",
   "metadata": {},
   "outputs": [
    {
     "name": "stdout",
     "output_type": "stream",
     "text": [
      "[5.0, 10.0, 15.0, 20.0, 25.0, 30.0]\n",
      "[1.0, 2.0, 3.0, 4.0, 5.0, 6.0]\n"
     ]
    }
   ],
   "source": [
    "numbers = [5.0, 10.0, 15.0, 20.0, 25.0, 30.0]\n",
    "newnumbers = [] #defining an empty list for later like this is called \"initializing\"\n",
    "\n",
    "for i in numbers: #for each number in the list\n",
    "    newnumber = i/5 #divide by 5\n",
    "    newnumbers.append(newnumber) #and add that new number to a new list\n",
    "    \n",
    "print(numbers)\n",
    "print(newnumbers)"
   ]
  },
  {
   "cell_type": "markdown",
   "id": "5a0d1279",
   "metadata": {},
   "source": [
    "This for loop takes in the list `numbers`, divides each element of the list by 5, and adds that new number to the list `newnumbers`. This is the general form of a for loop. Sometimes, we just want to do a some operation a number of times and not necessarily over a list. In this case, we can use `range(number)`, which will give a list of 0 to number-1. Here's a simple example of this."
   ]
  },
  {
   "cell_type": "code",
   "execution_count": 7,
   "id": "04871dff",
   "metadata": {},
   "outputs": [
    {
     "name": "stdout",
     "output_type": "stream",
     "text": [
      "0\n",
      "1\n",
      "2\n",
      "3\n",
      "4\n",
      "5\n",
      "6\n",
      "7\n",
      "8\n",
      "9\n"
     ]
    }
   ],
   "source": [
    "for n in range(10):\n",
    "    print(n)"
   ]
  },
  {
   "cell_type": "markdown",
   "id": "f70ccd62",
   "metadata": {},
   "source": [
    "Sometimes it's more convienent to work with the index of a list than the list itself, especially when working with multiple lists of the same length. In these cirumstances, rather than using `for element in list`, we can use `for i in range(len(list))`. This is what that looks like in practice, writing a code dividing each element of a list by a corresponding element in another"
   ]
  },
  {
   "cell_type": "code",
   "execution_count": 8,
   "id": "5267833a",
   "metadata": {},
   "outputs": [
    {
     "name": "stdout",
     "output_type": "stream",
     "text": [
      "[0.05263157894736842, 0.005076142131979695, 0.0010176390773405698, 1.0, 2.5, 6.0, 0.14285714285714285, 0.08695652173913043, 2.25, 0.1282051282051282]\n"
     ]
    }
   ],
   "source": [
    "numbers1 = [1,2,3,4,5,6,7,8,9,10]\n",
    "numbers2 = [19, 394, 2948, 4, 2, 1, 49, 92, 4, 78]\n",
    "\n",
    "newlist = [] #initializing\n",
    "\n",
    "for i in range(len(numbers1)):\n",
    "    newlist.append(numbers1[i]/numbers2[i])\n",
    "    \n",
    "print(newlist)"
   ]
  },
  {
   "cell_type": "markdown",
   "id": "b98c7ffe",
   "metadata": {},
   "source": [
    "## Booleans and Conditional Logic"
   ]
  },
  {
   "cell_type": "markdown",
   "id": "8e879ab9",
   "metadata": {},
   "source": [
    "The final variable type we'll be discussion is a **boolean**, which simply is a variable that is either `True` or `False`. There is a variety of ways you can create booleans. The simplest is by testing if two things are the same using `==`. Note this is not the same as `=`! The difference is that `=` is used for defining variables, while `==` is used for testing if two variables are the same. "
   ]
  },
  {
   "cell_type": "code",
   "execution_count": 9,
   "id": "f9083513",
   "metadata": {},
   "outputs": [
    {
     "name": "stdout",
     "output_type": "stream",
     "text": [
      "True\n",
      "False\n",
      "False\n",
      "True\n",
      "False\n"
     ]
    }
   ],
   "source": [
    "variable = True\n",
    "\n",
    "print(variable) # Will print \"True\"\n",
    "\n",
    "print(1 == 2) # Will print \"False\"\n",
    "\n",
    "name = \"Jansky\"\n",
    "print(name == \"Reber\") # Will print \"False\"\n",
    "print(name == \"Jansky\") # Will print \"True\"\n",
    "\n",
    "print((\"BOB\" == \"BOB\") == False) # Will print \"False\""
   ]
  },
  {
   "cell_type": "markdown",
   "id": "d38953e8",
   "metadata": {},
   "source": [
    "Similarly, we can test if two things are **not** equal using `!=`."
   ]
  },
  {
   "cell_type": "code",
   "execution_count": 10,
   "id": "c8aa7cc4",
   "metadata": {},
   "outputs": [
    {
     "name": "stdout",
     "output_type": "stream",
     "text": [
      "True\n",
      "True\n",
      "False\n"
     ]
    }
   ],
   "source": [
    "print(1 != 2) # Will print \"True\"\n",
    "\n",
    "name = \"Jansky\"\n",
    "print(name != \"Reber\") # Will print \"True\"\n",
    "print(name != \"Jansky\") # Will print \"False\""
   ]
  },
  {
   "cell_type": "markdown",
   "id": "3cfe4c4d",
   "metadata": {},
   "source": [
    "You can also create a boolean by using inequalites to compare numbers, namely `<` (\"less than\"), `>` (\"more than\"), `<=` (\"less than or equal to\"), and `>=` (\"more than or equal to\"), which work the same as you've learned in math class."
   ]
  },
  {
   "cell_type": "code",
   "execution_count": 11,
   "id": "866011a0",
   "metadata": {},
   "outputs": [
    {
     "name": "stdout",
     "output_type": "stream",
     "text": [
      "True\n",
      "False\n",
      "True\n",
      "False\n"
     ]
    }
   ],
   "source": [
    "print(1 < 2) # Will print \"True\"\n",
    "print(18 > 74.9) # Will print \"False\"\n",
    "print(21 >= 3) # Will print \"True\"\n",
    "print(32 <= 10) # Will print \"False\""
   ]
  },
  {
   "cell_type": "markdown",
   "id": "fdf2aefe",
   "metadata": {},
   "source": [
    "Another way to make booleans is to use `in`. This takes in something, and tells you whether it is in something else. This can be done on strings within strings, like this"
   ]
  },
  {
   "cell_type": "code",
   "execution_count": 12,
   "id": "5198b50f",
   "metadata": {},
   "outputs": [
    {
     "name": "stdout",
     "output_type": "stream",
     "text": [
      "True\n"
     ]
    }
   ],
   "source": [
    "print(\"vrooom\" in \"Pulsars go vrooom\") # Will return \"True\""
   ]
  },
  {
   "cell_type": "markdown",
   "id": "c04b5bbf",
   "metadata": {},
   "source": [
    "or with lists, like this"
   ]
  },
  {
   "cell_type": "code",
   "execution_count": 13,
   "id": "05b59b45",
   "metadata": {},
   "outputs": [
    {
     "name": "stdout",
     "output_type": "stream",
     "text": [
      "False\n",
      "True\n"
     ]
    }
   ],
   "source": [
    "dogs = [\n",
    "    \"Labrador Retriever\", \"German Shepherd\", \"Golden Retriever\", \n",
    "    \"Bulldog\", \"Poodle\", \"Beagle\", \"Rottweiler\", \n",
    "    \"Yorkshire Terrier\", \"Boxer\", \"Dachshund\"\n",
    "] # This is just a fancy way you can format long lists to make them look neater\n",
    "\n",
    "InDogs = \"Boxer\" #write a dog breed in the list here\n",
    "NotInDogs = \"Pug\" #write a dog breed not in the list here\n",
    "\n",
    "print(NotInDogs in dogs) # Will print \"False\"\n",
    "print(InDogs in dogs) # Will print \"True\""
   ]
  },
  {
   "cell_type": "markdown",
   "id": "d9a10107",
   "metadata": {},
   "source": [
    "We can also negate any boolean by putting `not` before it, like this"
   ]
  },
  {
   "cell_type": "code",
   "execution_count": 14,
   "id": "07dce4b3",
   "metadata": {},
   "outputs": [
    {
     "name": "stdout",
     "output_type": "stream",
     "text": [
      "False\n",
      "True\n"
     ]
    }
   ],
   "source": [
    "print(not True) # Will print \"False\"\n",
    "\n",
    "print(not \"quasar\" == \"nebula\") # Will print \"True\""
   ]
  },
  {
   "cell_type": "markdown",
   "id": "90bd0eba",
   "metadata": {},
   "source": [
    "Though we have been putting them inside `print` statments, note that they are perfectly fine outside of them as well. Something like this is totally valid as well (and probably something you're more likely to see)"
   ]
  },
  {
   "cell_type": "code",
   "execution_count": 15,
   "id": "7a77969d",
   "metadata": {},
   "outputs": [
    {
     "name": "stdout",
     "output_type": "stream",
     "text": [
      "False\n"
     ]
    }
   ],
   "source": [
    "flavors = [\n",
    "    \"Cherry\", \"Strawberry\", \"Watermelon\", \"Grape\", \"Blue Raspberry\", \n",
    "    \"Green Apple\", \"Lemon\", \"Orange\", \"Pineapple\", \"Cotton Candy\"\n",
    "]\n",
    "\n",
    "CoconutInFlavors = \"Coconut\" in flavors\n",
    "\n",
    "print(CoconutInFlavors) # Will print \"False\""
   ]
  },
  {
   "cell_type": "markdown",
   "id": "097284e7",
   "metadata": {},
   "source": [
    "You can also couple booleans by using `and` or `or`. The `and` will be `True` only if both variables given to it are `True`, and `or` will only return `True` if one or both of the variables given are `True`. Other, both will return `False`. Here are some examples"
   ]
  },
  {
   "cell_type": "code",
   "execution_count": 16,
   "id": "839a0147",
   "metadata": {},
   "outputs": [
    {
     "name": "stdout",
     "output_type": "stream",
     "text": [
      "True\n",
      "False\n",
      "True\n",
      "True\n",
      "True\n",
      "False\n"
     ]
    }
   ],
   "source": [
    "print(True and True) # Will print \"True\"\n",
    "print(True and False) # Will return \"False\"\n",
    "\n",
    "print(True or True) # Will print \"True\"\n",
    "print(True or False) # Will print \"True\"\n",
    "print(False or True) # Will print \"True\"\n",
    "print(False or False) # Will print \"False\""
   ]
  },
  {
   "cell_type": "markdown",
   "id": "642cbca4",
   "metadata": {},
   "source": [
    "#### **Bonus!** \n",
    "A less common way of making booleans is using the \"exclusive or\", `^`. This is similar to `or`, except it returns `False` if both given variables are `True`. Here's how it works. Don't worry if this one is confusing, you'll likely never need it, just including it for fun!"
   ]
  },
  {
   "cell_type": "code",
   "execution_count": 17,
   "id": "76279d17",
   "metadata": {},
   "outputs": [
    {
     "name": "stdout",
     "output_type": "stream",
     "text": [
      "False\n",
      "True\n",
      "True\n",
      "False\n"
     ]
    }
   ],
   "source": [
    "print(True ^ True) # Will print \"False\", unlike or!!!!\n",
    "print(True ^ False) # Will print \"True'\n",
    "print(False ^ True) # Will print \"True\"\n",
    "print(False ^ False) # Will print \"False\""
   ]
  },
  {
   "cell_type": "markdown",
   "id": "b2bb3bb1",
   "metadata": {},
   "source": [
    "### If Statements\n",
    "\n",
    "Now that we know how to make booleans, let's learn how to use them! The simplest way is with an `if` statement. They look something like this"
   ]
  },
  {
   "cell_type": "code",
   "execution_count": 18,
   "id": "af52142c",
   "metadata": {},
   "outputs": [
    {
     "name": "stdout",
     "output_type": "stream",
     "text": [
      "This one will print\n"
     ]
    }
   ],
   "source": [
    "if True:\n",
    "    print(\"This one will print\")\n",
    "    \n",
    "if False:\n",
    "    print(\"This one will not\")"
   ]
  },
  {
   "cell_type": "markdown",
   "id": "3310feaf",
   "metadata": {},
   "source": [
    "Here's a more complicated example. Let's say you're a teacher that has been having attendance issues with some students (Oscar, Sarah, and Jackson). You have a lot of students, so rather than checking by hand you write a short code that tells you if the students of interest are in class. Here's what that might look like."
   ]
  },
  {
   "cell_type": "code",
   "execution_count": 19,
   "id": "09d1af79",
   "metadata": {},
   "outputs": [
    {
     "name": "stdout",
     "output_type": "stream",
     "text": [
      "Oscar is in class\n"
     ]
    }
   ],
   "source": [
    "attendance = [\n",
    "    \"Alice\", \"Bob\", \"Catherine\", \"David\", \"Ella\",\n",
    "    \"Frank\", \"Grace\", \"Hannah\", \"Ian\", \"Julia\",\n",
    "    \"Kyle\", \"Laura\", \"Michael\", \"Nina\", \"Oscar\",\n",
    "    \"Paula\", \"Quinn\", \"Rachel\", \"Sam\", \"Tina\",\n",
    "    \"Uma\", \"Victor\", \"Wendy\", \"Xander\", \"Yara\",\n",
    "    \"Zane\", \"Abigail\", \"Benjamin\", \"Chloe\", \"Dylan\",\n",
    "    \"Ethan\", \"Fiona\", \"Gavin\", \"Hazel\", \"Isaac\",\n",
    "    \"Jasmine\", \"Kevin\", \"Lily\", \"Mason\", \"Nora\",\n",
    "    \"Olivia\", \"Peter\", \"Quincy\", \"Rose\", \"Scott\",\n",
    "    \"Tracy\", \"Ulysses\", \"Vanessa\", \"William\", \"Xena\",\n",
    "    \"Yasmine\", \"Zoey\", \"Aiden\", \"Bella\", \"Caleb\",\n",
    "    \"Diana\", \"Eli\", \"Faith\", \"George\", \"Harper\",\n",
    "    \"Ivy\", \"Jack\", \"Kara\", \"Leo\", \"Mia\",\n",
    "    \"Noah\", \"Olga\", \"Paul\", \"Queen\", \"Rob\",\n",
    "    \"Sophia\", \"Tyler\", \"Ursula\", \"Vincent\", \"Willow\",\n",
    "    \"Ximena\", \"Yusuf\", \"Zara\", \"Ava\", \"Blake\",\n",
    "    \"Connor\", \"Delilah\", \"Elias\", \"Freya\", \"Gabriel\",\n",
    "    \"Hope\", \"Isabel\", \"James\", \"Kayla\", \"Logan\",\n",
    "    \"Melody\", \"Nate\", \"Olive\", \"Parker\", \"Quinn\",\n",
    "    \"Riley\", \"Sophie\", \"Thomas\", \"Una\", \"Vera\"\n",
    "]\n",
    "\n",
    "\n",
    "if \"Oscar\" in attendance:\n",
    "    print(\"Oscar is in class\")\n",
    "    \n",
    "\n",
    "if \"Sarah\" in attendance:\n",
    "    print(\"Sarah is in class\")\n",
    "    \n",
    "    \n",
    "if \"Jackson\" in attendance:\n",
    "    print(\"Jackson is in class\")"
   ]
  },
  {
   "cell_type": "markdown",
   "id": "fa3747af",
   "metadata": {},
   "source": [
    "Along with `if` is `else`, which works as you might expect. `else` needs to come after an `if` statement, and will only run if the `if` statement does not, like this"
   ]
  },
  {
   "cell_type": "code",
   "execution_count": 20,
   "id": "7bc1cad7",
   "metadata": {},
   "outputs": [
    {
     "name": "stdout",
     "output_type": "stream",
     "text": [
      "But this will\n"
     ]
    }
   ],
   "source": [
    "if False:\n",
    "    print(\"This will not print\")\n",
    "\n",
    "else:\n",
    "    print(\"But this will\")"
   ]
  },
  {
   "cell_type": "markdown",
   "id": "bbcc85d2",
   "metadata": {},
   "source": [
    "Expanding on the previous example, we can use `else` to tell us if someone is not in class"
   ]
  },
  {
   "cell_type": "code",
   "execution_count": 21,
   "id": "7cff3df5",
   "metadata": {},
   "outputs": [
    {
     "name": "stdout",
     "output_type": "stream",
     "text": [
      "Oscar is in class\n",
      "Sarah is not in class\n",
      "Jackson is not in class\n"
     ]
    }
   ],
   "source": [
    "attendance = [\n",
    "    \"Alice\", \"Bob\", \"Catherine\", \"David\", \"Ella\",\n",
    "    \"Frank\", \"Grace\", \"Hannah\", \"Ian\", \"Julia\",\n",
    "    \"Kyle\", \"Laura\", \"Michael\", \"Nina\", \"Oscar\",\n",
    "    \"Paula\", \"Quinn\", \"Rachel\", \"Sam\", \"Tina\",\n",
    "    \"Uma\", \"Victor\", \"Wendy\", \"Xander\", \"Yara\",\n",
    "    \"Zane\", \"Abigail\", \"Benjamin\", \"Chloe\", \"Dylan\",\n",
    "    \"Ethan\", \"Fiona\", \"Gavin\", \"Hazel\", \"Isaac\",\n",
    "    \"Jasmine\", \"Kevin\", \"Lily\", \"Mason\", \"Nora\",\n",
    "    \"Olivia\", \"Peter\", \"Quincy\", \"Rose\", \"Scott\",\n",
    "    \"Tracy\", \"Ulysses\", \"Vanessa\", \"William\", \"Xena\",\n",
    "    \"Yasmine\", \"Zoey\", \"Aiden\", \"Bella\", \"Caleb\",\n",
    "    \"Diana\", \"Eli\", \"Faith\", \"George\", \"Harper\",\n",
    "    \"Ivy\", \"Jack\", \"Kara\", \"Leo\", \"Mia\",\n",
    "    \"Noah\", \"Olga\", \"Paul\", \"Queen\", \"Rob\",\n",
    "    \"Sophia\", \"Tyler\", \"Ursula\", \"Vincent\", \"Willow\",\n",
    "    \"Ximena\", \"Yusuf\", \"Zara\", \"Ava\", \"Blake\",\n",
    "    \"Connor\", \"Delilah\", \"Elias\", \"Freya\", \"Gabriel\",\n",
    "    \"Hope\", \"Isabel\", \"James\", \"Kayla\", \"Logan\",\n",
    "    \"Melody\", \"Nate\", \"Olive\", \"Parker\", \"Quinn\",\n",
    "    \"Riley\", \"Sophie\", \"Thomas\", \"Una\", \"Vera\"\n",
    "]\n",
    "\n",
    "if \"Oscar\" in attendance:\n",
    "    print(\"Oscar is in class\")\n",
    "    \n",
    "else:\n",
    "    print (\"Oscar is not in class\")\n",
    "    \n",
    "\n",
    "if \"Sarah\" in attendance:\n",
    "    print(\"Sarah is in class\")\n",
    "    \n",
    "else:\n",
    "    print(\"Sarah is not in class\")\n",
    "    \n",
    "    \n",
    "if \"Jackson\" in attendance:\n",
    "    print(\"Jackson is in class\")\n",
    "    \n",
    "else:\n",
    "    print(\"Jackson is not in class\")"
   ]
  },
  {
   "cell_type": "markdown",
   "id": "2bc72901",
   "metadata": {},
   "source": [
    "Finally, we have `elif`, which acts like a combination of `if` and `else`. Like `else`, it must be placed after `if`, and will only run if the `if` statement does not. However, like `if`, an `else` placed below it will only run if the `elif` statement doesn't. Here's how it works in practice."
   ]
  },
  {
   "cell_type": "code",
   "execution_count": 22,
   "id": "0a688333",
   "metadata": {},
   "outputs": [
    {
     "name": "stdout",
     "output_type": "stream",
     "text": [
      "This will print\n",
      "But this will print\n",
      "This will print\n"
     ]
    }
   ],
   "source": [
    "if False:\n",
    "    print(\"This will not print\")\n",
    "    \n",
    "elif True:\n",
    "    print(\"This will print\")\n",
    "    \n",
    "else:\n",
    "    print(\"But this will not print\")\n",
    "    \n",
    "#or\n",
    "\n",
    "if False:\n",
    "    print(\"This will not print\")\n",
    "    \n",
    "elif False:\n",
    "    print(\"This will not print\")\n",
    "    \n",
    "else:\n",
    "    print(\"But this will print\")\n",
    "    \n",
    "#or\n",
    "  \n",
    "if True:\n",
    "    print(\"This will print\")\n",
    "    \n",
    "elif True:\n",
    "    print(\"But this will not print\")\n",
    "    \n",
    "else:\n",
    "    print(\"And neither will this\")"
   ]
  },
  {
   "cell_type": "markdown",
   "id": "de52be29",
   "metadata": {},
   "source": [
    "Further expanding on our example, let's say the flu has been going around the school and many students are sick. We get a list from the front office of students who have called in sick. We can add to the code to tell us if the students of interest are sick."
   ]
  },
  {
   "cell_type": "code",
   "execution_count": 23,
   "id": "f2e23e62",
   "metadata": {},
   "outputs": [
    {
     "name": "stdout",
     "output_type": "stream",
     "text": [
      "Oscar is in class\n",
      "Sarah is not in class\n",
      "Jackson is sick\n"
     ]
    }
   ],
   "source": [
    "attendance = [\n",
    "    \"Alice\", \"Bob\", \"Catherine\", \"David\", \"Ella\",\n",
    "    \"Frank\", \"Grace\", \"Hannah\", \"Ian\", \"Julia\",\n",
    "    \"Kyle\", \"Laura\", \"Michael\", \"Nina\", \"Oscar\",\n",
    "    \"Paula\", \"Quinn\", \"Rachel\", \"Sam\", \"Tina\",\n",
    "    \"Uma\", \"Victor\", \"Wendy\", \"Xander\", \"Yara\",\n",
    "    \"Zane\", \"Abigail\", \"Benjamin\", \"Chloe\", \"Dylan\",\n",
    "    \"Ethan\", \"Fiona\", \"Gavin\", \"Hazel\", \"Isaac\",\n",
    "    \"Jasmine\", \"Kevin\", \"Lily\", \"Mason\", \"Nora\",\n",
    "    \"Olivia\", \"Peter\", \"Quincy\", \"Rose\", \"Scott\",\n",
    "    \"Tracy\", \"Ulysses\", \"Vanessa\", \"William\", \"Xena\",\n",
    "    \"Yasmine\", \"Zoey\", \"Aiden\", \"Bella\", \"Caleb\",\n",
    "    \"Diana\", \"Eli\", \"Faith\", \"George\", \"Harper\",\n",
    "    \"Ivy\", \"Jack\", \"Kara\", \"Leo\", \"Mia\",\n",
    "    \"Noah\", \"Olga\", \"Paul\", \"Queen\", \"Rob\",\n",
    "    \"Sophia\", \"Tyler\", \"Ursula\", \"Vincent\", \"Willow\",\n",
    "    \"Ximena\", \"Yusuf\", \"Zara\", \"Ava\", \"Blake\",\n",
    "    \"Connor\", \"Delilah\", \"Elias\", \"Freya\", \"Gabriel\",\n",
    "    \"Hope\", \"Isabel\", \"James\", \"Kayla\", \"Logan\",\n",
    "    \"Melody\", \"Nate\", \"Olive\", \"Parker\", \"Quinn\",\n",
    "    \"Riley\", \"Sophie\", \"Thomas\", \"Una\", \"Vera\"\n",
    "]\n",
    "\n",
    "sick = [\n",
    "    \"Jackson\", \"Emma\", \"Olivia\", \"Liam\", \"Sophia\",\n",
    "    \"Aiden\", \"Mia\", \"Noah\", \"Lucas\", \"Ava\"\n",
    "]\n",
    "\n",
    "\n",
    "if \"Oscar\" in attendance:\n",
    "    print(\"Oscar is in class\")\n",
    "    \n",
    "elif \"Oscar\" in sick:\n",
    "    print(\"Oscar is sick\")\n",
    "    \n",
    "else:\n",
    "    print(\"Oscar is not in class\")\n",
    "\n",
    "    \n",
    "if \"Sarah\" in attendance:\n",
    "    print(\"Sarah is in class\")\n",
    "    \n",
    "elif \"Sarah\" in sick:\n",
    "    print(\"Sarah is sick\")\n",
    "    \n",
    "else:\n",
    "    print(\"Sarah is not in class\")\n",
    "    \n",
    "    \n",
    "if \"Jackson\" in attendance:\n",
    "    print(\"Jackson is in class\")\n",
    "    \n",
    "elif \"Jackson\" in sick:\n",
    "    print(\"Jackson is sick\")\n",
    "    \n",
    "else:\n",
    "    print(\"Jackson is not in class\")"
   ]
  },
  {
   "cell_type": "markdown",
   "id": "cd167868",
   "metadata": {},
   "source": [
    "### While Loops\n",
    "\n",
    "The `while` loop works like a combination of the `if` statement and the `for` loop. Here is an example of how it works."
   ]
  },
  {
   "cell_type": "code",
   "execution_count": 24,
   "id": "760d5e4f",
   "metadata": {},
   "outputs": [
    {
     "name": "stdout",
     "output_type": "stream",
     "text": [
      "0\n",
      "1\n",
      "2\n",
      "3\n",
      "4\n",
      "5\n",
      "6\n",
      "7\n",
      "8\n",
      "9\n"
     ]
    }
   ],
   "source": [
    "i = 0\n",
    "while i < 10:\n",
    "    print(i)\n",
    "    i = i+1"
   ]
  },
  {
   "cell_type": "markdown",
   "id": "2f620da8",
   "metadata": {},
   "source": [
    "As you can see, the instructions under the `while` loop will repeat until the condition (here `i < 10`) is `False`. Be **very careful** using while loops, as it is extremely easy to write a code that will run forever. In fact (**don't try this**), the one small piece of code \n",
    "\n",
    "`while True:`\n",
    "\n",
    "`   i = 1` \n",
    "\n",
    "will only stop running when manually interupted by the user. If you ever do this on accident in a Jupyter notebook, go to \"Kernel\" at the top and press \"Interupt\" to manually stop it.\n",
    "\n",
    "A common method of avoiding this infinte loop is to include a `break` condition, like this simple code."
   ]
  },
  {
   "cell_type": "code",
   "execution_count": 25,
   "id": "d5a663da",
   "metadata": {},
   "outputs": [
    {
     "name": "stdout",
     "output_type": "stream",
     "text": [
      "Iteration 1: Current Value = 1\n",
      "Iteration 2: Current Value = 1.5\n",
      "Iteration 3: Current Value = 2.25\n",
      "Iteration 4: Current Value = 3.375\n",
      "Iteration 5: Current Value = 5.0625\n",
      "Iteration 6: Current Value = 7.59375\n",
      "Iteration 7: Current Value = 11.390625\n",
      "Iteration 8: Current Value = 17.0859375\n",
      "Iteration 9: Current Value = 25.62890625\n",
      "Iteration 10: Current Value = 38.443359375\n",
      "Iteration 11: Current Value = 57.6650390625\n",
      "Iteration 12: Current Value = 86.49755859375\n",
      "Target value reached or exceeded! Current Value = 129.746337890625\n"
     ]
    }
   ],
   "source": [
    "target_value = 100\n",
    "current_value = 1\n",
    "growth_rate = 1.5\n",
    "max_iterations = 20\n",
    "iterations = 0\n",
    "\n",
    "while iterations < max_iterations:\n",
    "    print(f\"Iteration {iterations + 1}: Current Value = {current_value}\")\n",
    "    current_value = current_value * growth_rate\n",
    "    iterations = iterations + 1\n",
    "    if current_value >= target_value:\n",
    "        print(f\"Target value reached or exceeded! Current Value = {current_value}\")\n",
    "        break\n",
    "else:\n",
    "    print(\"Reached maximum iterations without reaching the target value.\")"
   ]
  },
  {
   "cell_type": "markdown",
   "id": "3e611051",
   "metadata": {},
   "source": [
    "### Challenge\n",
    "\n",
    "Write a function `fibonacci(n)` that takes in the integer argument `n` and produces a list of the first `n` digits of the [Fibonacci sequence](https://en.wikipedia.org/wiki/Fibonacci_sequence). Then, write a new function `fibonacci_up_to(m)` that takes in the new integer argument `m` and gives a list of all of the digits of the Fibbonocci sequence less than `m`. Demonstrate that both work as intended using `print` statements for a variety of cases (i.e. try a bunch of numbers!). **Hint**, it may be helpful to initialize the set as `[0,1]` before doing any loops, and think about how to handle the case where `n=1`.\n",
    "\n",
    "This challenge may be difficult, feel free to ask for help!"
   ]
  },
  {
   "cell_type": "code",
   "execution_count": 27,
   "id": "a566251c",
   "metadata": {},
   "outputs": [],
   "source": [
    "def fibonacci(n):\n",
    "    #write your code here!\n",
    "    return \n",
    "\n",
    "def fibonacci_up_to(m):\n",
    "    #write your code here!\n",
    "    return "
   ]
  }
 ],
 "metadata": {
  "kernelspec": {
   "display_name": "Python 3",
   "language": "python",
   "name": "python3"
  },
  "language_info": {
   "codemirror_mode": {
    "name": "ipython",
    "version": 3
   },
   "file_extension": ".py",
   "mimetype": "text/x-python",
   "name": "python",
   "nbconvert_exporter": "python",
   "pygments_lexer": "ipython3",
   "version": "3.8.8"
  }
 },
 "nbformat": 4,
 "nbformat_minor": 5
}
