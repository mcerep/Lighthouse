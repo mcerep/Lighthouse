{
 "cells": [
  {
   "cell_type": "markdown",
   "id": "61e5a8a5",
   "metadata": {},
   "source": [
    "# Lighthouse Part 1\n",
    "By Matthew Cerep 1/28/25\n",
    "\n",
    "Welcome to the Lighthouse! This Jupyter notebook presumes you have no prior knowledge of python, and teaches you the basic functionalities of the language from the ground up! Read each section of texts, and then run the code block below it to see the code in action. **In Jupyter, you press `shift` and `enter` at the same time to run the code block.**\n",
    "\n",
    "Below, define your first variable as \"Hello World\" (quotation marks included), and press `shift` and `enter` at the same time to run your first code!"
   ]
  },
  {
   "cell_type": "code",
   "execution_count": 44,
   "id": "1effd7d9",
   "metadata": {},
   "outputs": [
    {
     "name": "stdout",
     "output_type": "stream",
     "text": [
      "Hello World!\n"
     ]
    }
   ],
   "source": [
    "#write \"Hello World!\" below\n",
    "FirstVariable = \"Hello World!\"\n",
    "\n",
    "print(FirstVariable)"
   ]
  },
  {
   "cell_type": "markdown",
   "id": "e26ef9e3",
   "metadata": {},
   "source": [
    "Congratulations, you've ran a python code! Aside from defining your first variable, note two things from this cell. \n",
    "\n",
    "First, the `print(variable)` function allows you to display the variable listed within the parentheses. You'll find yourself using it a lot!\n",
    "\n",
    "Second, notice the chunk of words after the `#`. These are called **comments**, and basically tells the computer to ignore the rest of the line after the `#`. You can use this to include notes directly in your code that may be useful to future users (or yourself!)."
   ]
  },
  {
   "cell_type": "markdown",
   "id": "696aa3c8",
   "metadata": {},
   "source": [
    "## Data Types\n",
    "\n",
    "You can set a variable equal to any data type, as we did above. Let's go through the most common data types."
   ]
  },
  {
   "cell_type": "markdown",
   "id": "9c9451c0",
   "metadata": {},
   "source": [
    "### Strings\n",
    "\n",
    "A string is simply the variable type for a collection of text. It is a series of numbers, letters, and punctuations together within quotation marks. For example, `\"GBT is HUGE!\"` is a string, as is `\"23414363567\"` (note the quotation marks!) or `\"1 2 3 4 5 numbers are fun :^)\"`. As astronomers, we won't work much with manipulating strings, but it's good to know they exist!\n",
    "\n",
    "A special type of string you'll find useful is called an **f string**. It looks like a normal string, except the first quotation mark is preceeded by an f. It allows you to include variables in strings by enclosing their variable names in brackets. It works something like this."
   ]
  },
  {
   "cell_type": "code",
   "execution_count": 45,
   "id": "fff92644",
   "metadata": {},
   "outputs": [
    {
     "name": "stdout",
     "output_type": "stream",
     "text": [
      "Emmy Noether was amazing!\n"
     ]
    }
   ],
   "source": [
    "FirstName = \"Emmy\"\n",
    "LastName = \"Noether\"\n",
    "\n",
    "phrase = f\"{FirstName} {LastName} was amazing!\"\n",
    "\n",
    "print(phrase)"
   ]
  },
  {
   "cell_type": "markdown",
   "id": "31d5a1f9",
   "metadata": {},
   "source": [
    "### Integers and Floats\n",
    "\n",
    "Integers and floats are the two main types of number variables. An integer is a number without a decimal, such as `42` or `206265`. A number with a decimal is called a float, such as `3.14` or `63.0` (yes, even if the decimal place is 0 it still counts as a float!). You can do math with these as expected, below are the basic rules. (Reminder, press shift+enter at the same time to run the code)."
   ]
  },
  {
   "cell_type": "code",
   "execution_count": 46,
   "id": "431523e7",
   "metadata": {},
   "outputs": [
    {
     "name": "stdout",
     "output_type": "stream",
     "text": [
      "75 + 7877 = 7952\n",
      "75 - 7877 = -7802\n",
      "75 * 7877 = 590775\n",
      "75 / 7877 = 0.009521\n",
      "75 ^ 7877 = 7203967359779566288532370174673955129442850897408322689737057583164791109980978071163496231437653879534230206030345250110137246128136870534690171781833270075241065832502943454198379695636490349151704025736496019089558196169130202324678576903608249545979342342165557850388876326366173213561886109146667437642426873734594437454459998477566829115762817243689113576999901351357304458926458678318766245237902924379156788839482470301294977920040187508849310397921936330884775201867409955674658843534390846508920340058778700707795362136658571880528656897547996021486849963928188404838738766937070153519652715761802332599570325683584846585944744125086694194477757522973519792702894347002036238094211810512755454705062548703485933588032321419479749087521293513977082445200101235576422754178397016008436597426238660121835748895636460858869942852452888943642468646652106156214787179433876092518880481052625590158668123398764224389651548617495328322737268198668386511833657810471935592485395508220546741284104340301174480153363183664598731304359986129617229398924636401389532822232004865029437048733412378238382111630068049822275088027242255982609719817035892461997435388897129857962708679428320748863962240524544421645994576759716496707793185938659734295945869255941601449717435760381298648636646115060036677142566614669482945203888320541185780217441274373410263204210209448282139657805866791378748097498578366105800389804077435717491088047816298049899865205839903445413819350084944296914742807663748485353308825773211175211272397422084248615705207616842755252234548596473983364967468429456063324409950188192333454991057088953083598689721019377786907045510646674525273484099062686690807079389190302281796395779608268292333941244824395082930908435851203059851885521265211084877655695964645479104123799556895908984208659719825444656045834629423552228313422438146486871769694053665202521204404327599316946895468480632135520492819027617507749888489653007498198301890187646227484903120865390269143868536977366514798110206774296468959393544260696164535588147088272096294197597719069094508249114209702960984104262236489395599915490386037223643328861283775719189117188523907032529717447300840265039164473621723590126684770596203238358678975999708460463854418308176512963175978379102564993851735281344762235484048984883360595397978360507240492656484266437938374792161045922053565804782488482689651926124621214208848640048023097008039697140506202508639790597019273586779619246072969893689422395519070804823186780183814100730773462336809053080482137018208089878916821622896887747694217419106687656967383782601426604701426193009257107090707054824818765262888663174096012083714284947122396033198682494266020970977068800972926032177842357974167262080789656767368097996786287894750652572974889264837779343644113295578095773796378183233070684076851595302530384129373122929414230714710033565917725516874590225413678505458936805307788280851947304117380063057150268240732149329048904334965944883084373643036769264320428565080622418661873945953303517582390372190243019875598812638779475181281907324782974249282462019055682054100331637677785091706315771200334610486752075702299386909399987262849856272712611420714193847424571919248284698670902927995398341162312993034084127288940340054835266671367418523369740795097948284657376388195113781295216617211739510348115973485405560845270994144541463352834963728899044986113611297198823156652153096248813986213748053855538227635106408472855924121893734015102292593316507211307954119291294582173802871539616058041849097144155011268855766779673195002032368363844480474583557553837519841529616374020893931697203080327747382066530561531244651870926247985502553733956728026437809690090479892226095756806515766999240566693422593851197259005057813971334562754973494052539595717682808226052376778405467529091753780516375801321338320763317502237532117133746736292176206149241643157180821147277047335295568221810067016961049232551565718797708933098712103472320588122227287346011865233397544814502348627422428215735559592260516759334399968831120677850738701883001968395414469792546967410712833506983050931542132904362612549568301342892045023353244164035016651708952480531577763032200033576299265803986239123261811442873829050110201976673674762366045914218252662524749756850668472379482829370463215500555543148995757626058452453468923207474853602514789683047643533126547654103291146006262440339688266897963700220390671933227471438960699060668184642078378914072513650443671370712620708772547672049146007505110962434321368988480498145312780427154101279575040985810141148844590667582858239046774745752324403817733378344697809702793933806891828081946151279335306253109659392063551386214223269746374521379971699124893612874250635196315375107064624047929840731768298642687768503905185073883409561101475120779338212875560490250064699943834006364417874362038111854980488384570645404793250936773918311685826975475883889076954463143627108518535371068696566370753082276697952465147959769013743619292520296731589792515390527060125655339923946349674651757768787338692412303513562369938810416126294588269017342691958212809916762220763352047731693832167336553823775037083213650554615534172161652820237936584981000669873141364499144828953003498443231370460154216281174014741871883232781551422631618048123947868398775499712360688464643760307075745902882345701638015957087049816067208534818550919472222661668334554330795001667112988765642000195480111222655245070449188832909551989835121962358979552969836657239808849689198780478040451297041491017602787496620647919607618584619214573193473370112322150154053460718501299273817868218688191203765569525290763976656087075610579316481608683797977938017589400091269470545880560673757735921525786185702413197994185590735403573912808167957785266612144949545909679064061460978368328158294356664970875292676963686022165255386899130044437529275980516607766352136605649797255815060952707853316106427506519238814915263511332627998751095255105791864173257940110334468785802638033016046242730106611933134308759415343578060111566216953239042824941112444168066422980031919128842426489022175037484998352911684616565633097754664735818241858432643734633760240052675502584471907520546073467376876695387427184474288154943431712481347063894754447280764209324509775334610920612150121063887259733287428282091658831880837938618660351261886225008247946136493291960102692667390459632262713963660548914020021785579535680286968855496604151277969196508132733320317411567671546623650040116434331199667605555710458529248117792310759636478335539883271588270775018473000753298035447320197480215554729357088842567483156846163063685818162117484533916559654291079860234706115385750250541930754708307321410604742378269826477466855661701778780527466002484440750211962142346064689970668632316489616651921484768765299148256190858832673709153666020645710340444950801336343355217058577551770933242197128574584350477239035721496587659433932936585557864425496558925507446066864152135873484513008967193682557308156374916608595606437274289243238689414347998341999458259665307022882334118641991671081175349523082384068061443389532827297708552984054336135486501650613097219649039236314139108701340209547099052182196859244558526104917571573343309852256863687930313561780581612701850273405364996648432360756379653962110847116494931050934813848813080256734972369426893898172989777145878044824443161359690055894010963843659477923725202436673320356529650986947736384970649727723274761486958026866134847597431143359352628602004061448168242720623728228031978427964323068700605873427511552864331996370077847870750265384696697439516098967113730160226583175999604539866646906863626341770884472284259187655253168241055388153931181408545444194656960828292694728491083709103597622744135712130097500036746922749702280777334566884252584869590310335191850942156874651816377490343244548295932776528473311596359078178186043770797311958501646489531689994208799922740740228953210093109538946541099760916305929590973901592274647501155115551199932878390673456521819648793311488057922932157164064956168585539539735259477123640179234791368072813802621330903497285830946097917953138471188938747896061601634556845149371890997421312758354300400079525713170573079489287573245586145721701523982545087641548024656371125124939957601112767142820759413236716845278775755004095301680840826834957327573805689029707219071672863800391408077686339450761540728489583172570439681747124221971135362411555723669000633794130675226616571196800088501411844043354788781476568367068654464757370509305587825452377555136693717235930219758947953948285526171171246857787668403457435031613142353492367992471760758476457073975436825799822282814121011002553820343567919077591472938874568495332864639212955355744541624198611266202072084498745453326795165681794741140234569602002828627796394048448873079853911310910472981018186126087499305638088366277085284740323289187858917003724756680797268351487769240589569173077437210764270483362094383047550692275597742525581511658589686946006094358114368394507851484854002244995956571373658530161583033247320092120442733557586440049036710826002507749018296677266753806881523382153032750280985119263013451878400338645291695119232162017884894415390548707710487721348533740788593561645528853183304279588219543271227507354951147573849622166307721073143269564056157288351358083707166094581401146903416255967187416706354476115215233721143878597673195874984986924073197272599689057277738576676756231804562843286541059230157315593511672994886463211386540696297032417379920467645508789308210269943403715276988939845597434182851261072897856296508144984938726630610891410935281436533550564923165793115028308754059414199245372964903807092379807861943882030103024120784678511924181477298759759674862721778569544588122369830948172212437471878249926318985414254158075342907903888781616147837113549385781642904735879567140345380380759973123631192986265831846631832064648014924222050103011542603237233226005029957553247627247995689233938277469428369915910855292449604019802753041948093174795168913586950132178021023752570009897242257560208012598572744873231449348502349708436198746773665473273702357342124249205425521466363513745591599260472749574393942871131412674313555133678372776144940686762749993722852384633707554215146141644060780221925961387281013305621429674348304265523970214364706152301537065968894562941811024120591385993679804428502594677918646292675275719910660460512691885256885595729301043539740681930049503677062461601188594485425730924832392500373404829567854278738312672691918820254349887439663803959208620258699927592963451049577843283703206902871668251233982657417317149110745928538572304288898504234043581547435329596010098614223110053990331872814907593207972551386224147061680512755530434230280860293733146729626756734431538195621878836460864866413778576328538968242989225730467259663501141246095787649703806173851673470684876348180104736620450813655863894438768759241247726866819942255149806937029338572762763024988133799581125991524086528559146054993914257509494030912591547191414292156992912708359225878689662639711595890037590155591122993612566019587235587355708414961599606401804703845941034223855406927619377624138581905265027224438226413039635699243889132182963825692358719182389541370854905141539702576834431881224111140312204619164710342742903057338344952062512111931986063659115069356908267229442768961434385066780627886769246772283511654437785870927946225146015228886899806894910975007060998537090325804265744524635797770397269769147515787085433395770314661058918342272501719647449233808137102845013965951609576079971527090195649370055834833060184693634196482633225245744207473209278373269794269937048780759595468861924179868763634725580522501031864215494612420294973863438849459410574293480967180915897453681916526551814486663684174637859723077741276248373730442701910269392220191667466580328458751954936931506541486096466369234525823431738574696514167275720653221600741046647901483733392235113022691309560291076175616079287617159620131300484116641119972128672502437258940463663390586301367791009244189728576373305004937289556523586770874167742298381829671429918425848233550828951181641201698167934492814948639332783929966627205020173126246826871333712767687532667877296449807268179284014385576306268573964906462242214745711688618567182161038041330844382710010834338337005227506687785785965193643586748387605560985530988619314312177107493084903821273102565549506981391982271367867002430977990150550624780755626547739728578847533756234843694017697372720387164251468617708302781579783740487910347198703645522653503722717768135226337310576726439022783032263946394311409570024152805977918780698331119484637826711222974005317274017630576138120812930100254969759419152374557160103161521121836132354517926584339960370465735132425375344886334305486465345823434193149924643381429580572977067287018392471714086583101801651126302152779116314277235613379113383397494954674881884970731248973271176479266155089105144945573290683118811316683488365870057584354037163901951075404297334405702460190654131454372724223612489861134019979710558867065361927157380685622368299688231527107028828215193744435072610522310790275798307752806303270274720759396167427616608415307554629555293004957254911528272947935217223929659730139535150553820369765709770772945959750467087131800869505412025477511473316467037122634983368613100430998840224114845937818286148884171633478648753167972038804109710264991070182879880973071965868160752969414040896678662381671279314732619922414493855982835939472021029291491731602402106884387446977569160091191525303261676326310698181202156035517701981233080505294812653007100295501916482199318638553648816189608174962855471122412225464822479388703091744405116022775268497320041930520732020014370458196088128676457012518802494147283269275829604736145514209808734004602157599867415895753715497739337506928177375059191776778390737949877505942125734180303264992079617060994949331871928461584572593463411626923241313836895410610954818974571753315505106855077196055033531291747212635571796087178832788503545261792521374310834804922304103560212790172557623304835660901544793383559011948226185662956504737676848280142027340505062122819438782424084007224306443387811261426234362749441221751190698523840810898213155961387001367664356774383015396649489647658329107905610194924119634417950894176831132784385849172205048186762285553001900901301098451801868015309362046457898464987328824113304198313500966664316682612169101123936780697157216500163376579141566284880579838686049002751802469695390035637072260203873943947887333171514734309472858907195775200350808090860138984057626263108162843788163875355623988561078983557175725401716408172621539735129345732238086152943168372075888328254222869873046875\n"
     ]
    }
   ],
   "source": [
    "#enter any 2 numbers you would like below!\n",
    "num1 = 75\n",
    "num2 = 7877\n",
    "\n",
    "added = num1 + num2 #this is how you add\n",
    "subtracted = num1 - num2 #this is how you subtract\n",
    "multiplied = num1 * num2 #this is how you multiply\n",
    "divided = num1 / num2 #this is how you divide\n",
    "exponent = num1 ** num2 #this is how you use exponents\n",
    "\n",
    "#You can ignore what's going on below for the time being. \n",
    "print(f\"{num1} + {num2} = {added}\")\n",
    "print(f\"{num1} - {num2} = {subtracted}\")\n",
    "print(f\"{num1} * {num2} = {multiplied}\")\n",
    "print(f\"{num1} / {num2} = {divided:f}\")\n",
    "print(f\"{num1} ^ {num2} = {exponent}\")"
   ]
  },
  {
   "cell_type": "markdown",
   "id": "2ad42716",
   "metadata": {},
   "source": [
    "### Modulo Operator\n",
    "\n",
    "A mathematical operation you may be less familiar with is `%`, called the **modulo operator**. It may seem a bit tricky at first, but if you understand division, you will understand it!\n",
    "\n",
    "`%` works like the division symbol `/`, except instead of returning the result of the first number divided by the second, it return the remainder of that division. For example,\n",
    "\n",
    "\\begin{equation}\n",
    "    22 \\space \\div \\space 5 = 4.4\n",
    "\\end{equation}\n",
    "\n",
    "or, equivalently (though less commonly seen),\n",
    "\n",
    "\\begin{equation}\n",
    "    22 \\space \\div \\space 5 = 4 \\space \\text{R} \\space 2 \\space.\n",
    "\\end{equation}\n",
    "\n",
    "Since 22 items can be grouped into 4 sets of 5 with 2 left over (the \"remainder\", which is specified by the value after the $\\text{R}$).\n",
    "\n",
    "`%` works similarly, except it returns only the remainder, so,\n",
    "\n",
    "\\begin{equation}\n",
    "    22 \\space \\% \\space 5 = 2 \\space.\n",
    "\\end{equation}\n",
    "\n",
    "Below are a few more examples of the modulo operator in action!"
   ]
  },
  {
   "cell_type": "code",
   "execution_count": 5,
   "id": "0efc7171",
   "metadata": {},
   "outputs": [
    {
     "name": "stdout",
     "output_type": "stream",
     "text": [
      "2\n",
      "3\n",
      "1\n",
      "8\n"
     ]
    }
   ],
   "source": [
    "print(22 % 5) #This will give 2\n",
    "print(7 % 4) #This will give 3\n",
    "print(50 % 7) #This will give 1\n",
    "print(17 % 9) #This will give 8"
   ]
  },
  {
   "cell_type": "markdown",
   "id": "f79b7a57",
   "metadata": {},
   "source": [
    "### Lists\n",
    "Picking out individual elements of a list is called **indexing** and works like this\n",
    "\n",
    "`a[0]` gives the first value in list `a`\n",
    "\n",
    "`a[1]` gives the second value in list `a`\n",
    "\n",
    "`a[n-1]` gives the nth value in list `a`\n",
    "\n",
    "`a[-1]` gives the last value in list `a`\n",
    "\n",
    "The main thing to remember is that, because of a quirk in how computer scientists count, you index the nth element in a list using n-1. So the 1st element is `a[0]`, the 2nd is `a[1]`, and so on. Another handy trick to remember is that indexing with -1, `a[-1]`, gives the last element in a list!"
   ]
  },
  {
   "cell_type": "code",
   "execution_count": 5,
   "id": "604b3f7a",
   "metadata": {},
   "outputs": [
    {
     "name": "stdout",
     "output_type": "stream",
     "text": [
      "First color: green\n",
      "Second color: blue\n",
      "Third color: red\n",
      "Fourth color: orange\n",
      "Fifth color: pink\n",
      "Last color: pink\n"
     ]
    }
   ],
   "source": [
    "#list 5 of your favorite colors as strings\n",
    "ColorList = [\"green\", \"blue\", \"red\", \"orange\", \"pink\"]\n",
    "\n",
    "#You read off elements like this\n",
    "FirstColor = ColorList[0] #notice the first element is indexed with 0, not one!\n",
    "SecondColor = ColorList[1]\n",
    "ThirdColor = ColorList[2]\n",
    "FourthColor = ColorList[3]\n",
    "FifthColor = ColorList[4]\n",
    "LastColor = ColorList[-1] #notice you can index the last element of a list with -1. This is useful when you're not sure how long a list is!\n",
    "\n",
    "#Again, ignore what's happening below for now\n",
    "print(f\"First color: {FirstColor}\")\n",
    "print(f\"Second color: {SecondColor}\")\n",
    "print(f\"Third color: {ThirdColor}\")\n",
    "print(f\"Fourth color: {FourthColor}\")\n",
    "print(f\"Fifth color: {FifthColor}\")\n",
    "print(f\"Last color: {LastColor}\")"
   ]
  },
  {
   "cell_type": "markdown",
   "id": "54125253",
   "metadata": {},
   "source": [
    "Aside from indexing certain elements, you can pick out entire chunks of lists. This is called **slicing** and works like this:\n",
    "\n",
    "`a[start:stop]`  gives the elements in list `a` indexed start through stop - 1\n",
    "\n",
    "`a[start:]`      gives the elements in list `a` indexed  start through the rest of the array\n",
    "\n",
    "`a[:stop]`       gives the elements in list `a` indexed  from the beginning through stop - 1"
   ]
  },
  {
   "cell_type": "code",
   "execution_count": 6,
   "id": "2fb497c2",
   "metadata": {},
   "outputs": [
    {
     "name": "stdout",
     "output_type": "stream",
     "text": [
      "Colors after the first: ['blue', 'red', 'orange', 'pink']\n",
      "Colors before the the fifth: ['green', 'blue', 'red', 'orange']\n",
      "Colors after the first and before the fifth: ['blue', 'red', 'orange']\n"
     ]
    }
   ],
   "source": [
    "ListAfter1 = ColorList[1:] #this selects all colors after the 1st indexed color (the 2nd element)\n",
    "\n",
    "ListBefore5 = ColorList[:4] #this selects all colors before the 4th indexed color (the 5th element)\n",
    "\n",
    "ListMiddle = ColorList[1:4] #this selects all colors after the 1st indexed color (the 2nd element) and before the 4th indexed color (the 5th element)\n",
    "\n",
    "print(f\"Colors after the first: {ListAfter1}\")\n",
    "print(f\"Colors before the the fifth: {ListBefore5}\")\n",
    "print(f\"Colors after the first and before the fifth: {ListMiddle}\")"
   ]
  },
  {
   "cell_type": "markdown",
   "id": "70d00a11",
   "metadata": {},
   "source": [
    "You can also add a new element `b` onto the end of list `a` using `a.append(b)`, like this."
   ]
  },
  {
   "cell_type": "code",
   "execution_count": 7,
   "id": "5502721c",
   "metadata": {},
   "outputs": [
    {
     "name": "stdout",
     "output_type": "stream",
     "text": [
      "[1, 2, 3, 4, 5]\n",
      "[1, 2, 3, 4, 5, 6]\n"
     ]
    }
   ],
   "source": [
    "a = [1, 2, 3, 4, 5]\n",
    "b = 6\n",
    "\n",
    "print(a) #won't include b\n",
    "a.append(b)\n",
    "print(a) #will include b"
   ]
  },
  {
   "cell_type": "markdown",
   "id": "6b4b0d87",
   "metadata": {},
   "source": [
    "### Functions\n",
    "\n",
    "Sometimes we end up doing the same operation many times over. In these cases, it's useful to define a **function**. Functions are of the form `function(input)`, taking in some input and giving an output based on it. Note that it can take it any number of inputs, which are listed like this `newfunction(input1, input2, input3)` and so on. You define a function like this."
   ]
  },
  {
   "cell_type": "code",
   "execution_count": 8,
   "id": "70f5a6d7",
   "metadata": {},
   "outputs": [
    {
     "name": "stdout",
     "output_type": "stream",
     "text": [
      "7\n"
     ]
    }
   ],
   "source": [
    "def addnumbers(a,b): #name your function and its input variables, note the semicolon\n",
    "    \n",
    "    add = a + b #do the operation\n",
    "    \n",
    "    return add #tell the function what variable(s) to output\n",
    "\n",
    "num1 = 2\n",
    "num2 = 5\n",
    "added = addnumbers(num1, num2)\n",
    "\n",
    "print(added)"
   ]
  },
  {
   "cell_type": "markdown",
   "id": "f517a257",
   "metadata": {},
   "source": [
    "## Challenge\n",
    "\n",
    "You're out to eat with your friends and agree to split the check evenly. **Write a function that gives you the total amount each person owes for any number of friends and bill amount if you decide to tip 20% of the bill. Confirm that the function works as intended by showing a group of 7 friends with a \\\\$150 bill will pay \\\\$25.72 each**."
   ]
  },
  {
   "cell_type": "code",
   "execution_count": 47,
   "id": "120bb2ac",
   "metadata": {},
   "outputs": [
    {
     "name": "stdout",
     "output_type": "stream",
     "text": [
      "25.714285714285715\n"
     ]
    }
   ],
   "source": [
    "def amountperperson(bill, numpeople):\n",
    "    #write your code here!\n",
    "    return bill*1.2/numpeople\n",
    "\n",
    "print(amountperperson(150, 7))"
   ]
  },
  {
   "cell_type": "markdown",
   "id": "b47d9329",
   "metadata": {},
   "source": [
    "### For Loops\n",
    "\n",
    "Sometimes we want to repeat the same operation a number of times in a row. In these cases, **for loops** often come in handy. They work like this"
   ]
  },
  {
   "cell_type": "code",
   "execution_count": 15,
   "id": "30632d80",
   "metadata": {},
   "outputs": [
    {
     "name": "stdout",
     "output_type": "stream",
     "text": [
      "[5.0, 10.0, 15.0, 20.0, 25.0, 30.0]\n",
      "[1.0, 2.0, 3.0, 4.0, 5.0, 6.0]\n"
     ]
    }
   ],
   "source": [
    "numbers = [5.0, 10.0, 15.0, 20.0, 25.0, 30.0]\n",
    "newnumbers = [] #defining an empty list for later like this is called \"initializing\"\n",
    "\n",
    "for i in numbers: #for each number in the list\n",
    "    newnumber = i/5 #divide by 5\n",
    "    newnumbers.append(newnumber) #and add that new number to a new list\n",
    "    \n",
    "print(numbers)\n",
    "print(newnumbers)"
   ]
  },
  {
   "cell_type": "markdown",
   "id": "5a0d1279",
   "metadata": {},
   "source": [
    "This for loop takes in the list `numbers`, divides each element of the list by 5, and adds that new number to the list `newnumbers`. This is the general form of a for loop. Sometimes, we just want to do a some operation a number of times and not necessarily over a list. In this case, we can use `range(number)`, which will give a list of 0 to number-1. Here's a simple example of this."
   ]
  },
  {
   "cell_type": "code",
   "execution_count": 16,
   "id": "04871dff",
   "metadata": {},
   "outputs": [
    {
     "name": "stdout",
     "output_type": "stream",
     "text": [
      "0\n",
      "1\n",
      "2\n",
      "3\n",
      "4\n",
      "5\n",
      "6\n",
      "7\n",
      "8\n",
      "9\n"
     ]
    }
   ],
   "source": [
    "for n in range(10):\n",
    "    print(n)"
   ]
  },
  {
   "cell_type": "markdown",
   "id": "f70ccd62",
   "metadata": {},
   "source": [
    "Sometimes it's more convienent to work with the index of a list than the list itself, especially when working with multiple lists of the same length. In these cirumstances, rather than using `for element in list`, we can use `for i in range(len(list))`. This is what that looks like in practice, writing a code dividing each element of a list by a corresponding element in another"
   ]
  },
  {
   "cell_type": "code",
   "execution_count": 42,
   "id": "5267833a",
   "metadata": {},
   "outputs": [
    {
     "name": "stdout",
     "output_type": "stream",
     "text": [
      "[0.05263157894736842, 0.005076142131979695, 0.0010176390773405698, 1.0, 2.5, 6.0, 0.14285714285714285, 0.08695652173913043, 2.25, 0.1282051282051282]\n"
     ]
    }
   ],
   "source": [
    "numbers1 = [1,2,3,4,5,6,7,8,9,10]\n",
    "numbers2 = [19, 394, 2948, 4, 2, 1, 49, 92, 4, 78]\n",
    "\n",
    "newlist = [] #initializing\n",
    "\n",
    "for i in range(len(numbers1)):\n",
    "    newlist.append(numbers1[i]/numbers2[i])\n",
    "    \n",
    "print(newlist)"
   ]
  },
  {
   "cell_type": "markdown",
   "id": "b98c7ffe",
   "metadata": {},
   "source": [
    "## Booleans and Conditional Logic"
   ]
  },
  {
   "cell_type": "markdown",
   "id": "8e879ab9",
   "metadata": {},
   "source": [
    "The final variable type we'll be discussion is a **boolean**, which simply is a variable that is either `True` or `False`. There is a variety of ways you can create booleans. The simplest is by testing if two things are the same using `==`. Note this is not the same as `=`! The difference is that `=` is used for defining variables, while `==` is used for testing if two variables are the same. "
   ]
  },
  {
   "cell_type": "code",
   "execution_count": 18,
   "id": "f9083513",
   "metadata": {},
   "outputs": [
    {
     "name": "stdout",
     "output_type": "stream",
     "text": [
      "True\n",
      "False\n",
      "False\n",
      "True\n",
      "False\n"
     ]
    }
   ],
   "source": [
    "variable = True\n",
    "\n",
    "print(variable) # Will print \"True\"\n",
    "\n",
    "print(1 == 2) # Will print \"False\"\n",
    "\n",
    "name = \"Jansky\"\n",
    "print(name == \"Reber\") # Will print \"False\"\n",
    "print(name == \"Jansky\") # Will print \"True\"\n",
    "\n",
    "print((\"BOB\" == \"BOB\") == False) # Will print \"False\""
   ]
  },
  {
   "cell_type": "markdown",
   "id": "d38953e8",
   "metadata": {},
   "source": [
    "Similarly, we can test if two things are **not** equal using `!=`."
   ]
  },
  {
   "cell_type": "code",
   "execution_count": 14,
   "id": "c8aa7cc4",
   "metadata": {},
   "outputs": [
    {
     "name": "stdout",
     "output_type": "stream",
     "text": [
      "True\n",
      "True\n",
      "False\n"
     ]
    }
   ],
   "source": [
    "print(1 != 2) # Will print \"True\"\n",
    "\n",
    "name = \"Jansky\"\n",
    "print(name != \"Reber\") # Will print \"True\"\n",
    "print(name != \"Jansky\") # Will print \"False\""
   ]
  },
  {
   "cell_type": "markdown",
   "id": "3cfe4c4d",
   "metadata": {},
   "source": [
    "You can also create a boolean by using inequalites to compare numbers, namely `<` (\"less than\"), `>` (\"more than\"), `<=` (\"less than or equal to\"), and `>=` (\"more than or equal to\"), which work the same as you've learned in math class."
   ]
  },
  {
   "cell_type": "code",
   "execution_count": 16,
   "id": "866011a0",
   "metadata": {},
   "outputs": [
    {
     "name": "stdout",
     "output_type": "stream",
     "text": [
      "True\n",
      "False\n",
      "True\n",
      "False\n"
     ]
    }
   ],
   "source": [
    "print(1 < 2) # Will print \"True\"\n",
    "print(18 > 74.9) # Will print \"False\"\n",
    "print(21 >= 3) # Will print \"True\"\n",
    "print(32 <= 10) # Will print \"False\""
   ]
  },
  {
   "cell_type": "markdown",
   "id": "fdf2aefe",
   "metadata": {},
   "source": [
    "Another way to make booleans is to use `in`. This takes in something, and tells you whether it is in something else. This can be done on strings within strings, like this"
   ]
  },
  {
   "cell_type": "code",
   "execution_count": 19,
   "id": "5198b50f",
   "metadata": {},
   "outputs": [
    {
     "name": "stdout",
     "output_type": "stream",
     "text": [
      "True\n"
     ]
    }
   ],
   "source": [
    "print(\"vrooom\" in \"Pulsars go vrooom\") # Will return \"True\""
   ]
  },
  {
   "cell_type": "markdown",
   "id": "c04b5bbf",
   "metadata": {},
   "source": [
    "or with lists, like this"
   ]
  },
  {
   "cell_type": "code",
   "execution_count": 20,
   "id": "05b59b45",
   "metadata": {},
   "outputs": [
    {
     "name": "stdout",
     "output_type": "stream",
     "text": [
      "False\n",
      "True\n"
     ]
    }
   ],
   "source": [
    "dogs = [\n",
    "    \"Labrador Retriever\", \"German Shepherd\", \"Golden Retriever\", \n",
    "    \"Bulldog\", \"Poodle\", \"Beagle\", \"Rottweiler\", \n",
    "    \"Yorkshire Terrier\", \"Boxer\", \"Dachshund\"\n",
    "] # This is just a fancy way you can format long lists to make them look neater\n",
    "\n",
    "InDogs = \"Boxer\" #write a dog breed in the list here\n",
    "NotInDogs = \"Pug\" #write a dog breed not in the list here\n",
    "\n",
    "print(NotInDogs in dogs) # Will print \"False\"\n",
    "print(InDogs in dogs) # Will print \"True\""
   ]
  },
  {
   "cell_type": "markdown",
   "id": "d9a10107",
   "metadata": {},
   "source": [
    "We can also negate any boolean by putting `not` before it, like this"
   ]
  },
  {
   "cell_type": "code",
   "execution_count": 21,
   "id": "07dce4b3",
   "metadata": {},
   "outputs": [
    {
     "name": "stdout",
     "output_type": "stream",
     "text": [
      "False\n",
      "True\n"
     ]
    }
   ],
   "source": [
    "print(not True) # Will print \"False\"\n",
    "\n",
    "print(not \"quasar\" == \"nebula\") # Will print \"True\""
   ]
  },
  {
   "cell_type": "markdown",
   "id": "90bd0eba",
   "metadata": {},
   "source": [
    "Though we have been putting them inside `print` statments, note that they are perfectly fine outside of them as well. Something like this is totally valid as well (and probably something you're more likely to see)"
   ]
  },
  {
   "cell_type": "code",
   "execution_count": 22,
   "id": "7a77969d",
   "metadata": {},
   "outputs": [
    {
     "name": "stdout",
     "output_type": "stream",
     "text": [
      "False\n"
     ]
    }
   ],
   "source": [
    "flavors = [\n",
    "    \"Cherry\", \"Strawberry\", \"Watermelon\", \"Grape\", \"Blue Raspberry\", \n",
    "    \"Green Apple\", \"Lemon\", \"Orange\", \"Pineapple\", \"Cotton Candy\"\n",
    "]\n",
    "\n",
    "CoconutInFlavors = \"Coconut\" in flavors\n",
    "\n",
    "print(CoconutInFlavors) # Will print \"False\""
   ]
  },
  {
   "cell_type": "markdown",
   "id": "097284e7",
   "metadata": {},
   "source": [
    "You can also couple booleans by using `and` or `or`. The `and` will be `True` only if both variables given to it are `True`, and `or` will only return `True` if one or both of the variables given are `True`. Other, both will return `False`. Here are some examples"
   ]
  },
  {
   "cell_type": "code",
   "execution_count": 23,
   "id": "839a0147",
   "metadata": {},
   "outputs": [
    {
     "name": "stdout",
     "output_type": "stream",
     "text": [
      "True\n",
      "False\n",
      "True\n",
      "True\n",
      "True\n",
      "False\n"
     ]
    }
   ],
   "source": [
    "print(True and True) # Will print \"True\"\n",
    "print(True and False) # Will return \"False\"\n",
    "\n",
    "print(True or True) # Will print \"True\"\n",
    "print(True or False) # Will print \"True\"\n",
    "print(False or True) # Will print \"True\"\n",
    "print(False or False) # Will print \"False\""
   ]
  },
  {
   "cell_type": "markdown",
   "id": "642cbca4",
   "metadata": {},
   "source": [
    "#### **Bonus!** \n",
    "A less common way of making booleans is using the \"exclusive or\", `^`. This is similar to `or`, except it returns `False` if both given variables are `True`. Here's how it works. Don't worry if this one is confusing, you'll likely never need it, just including it for fun!"
   ]
  },
  {
   "cell_type": "code",
   "execution_count": 24,
   "id": "76279d17",
   "metadata": {},
   "outputs": [
    {
     "name": "stdout",
     "output_type": "stream",
     "text": [
      "False\n",
      "True\n",
      "True\n",
      "False\n"
     ]
    }
   ],
   "source": [
    "print(True ^ True) # Will print \"False\", unlike or!!!!\n",
    "print(True ^ False) # Will print \"True'\n",
    "print(False ^ True) # Will print \"True\"\n",
    "print(False ^ False) # Will print \"False\""
   ]
  },
  {
   "cell_type": "markdown",
   "id": "b2bb3bb1",
   "metadata": {},
   "source": [
    "### If Statements\n",
    "\n",
    "Now that we know how to make booleans, let's learn how to use them! The simplest way is with an `if` statement. They look something like this"
   ]
  },
  {
   "cell_type": "code",
   "execution_count": 25,
   "id": "af52142c",
   "metadata": {},
   "outputs": [
    {
     "name": "stdout",
     "output_type": "stream",
     "text": [
      "This one will print\n"
     ]
    }
   ],
   "source": [
    "if True:\n",
    "    print(\"This one will print\")\n",
    "    \n",
    "if False:\n",
    "    print(\"This one will not\")"
   ]
  },
  {
   "cell_type": "markdown",
   "id": "3310feaf",
   "metadata": {},
   "source": [
    "Here's a more complicated example. Let's say you're a teacher that has been having attendance issues with some students (Oscar, Sarah, and Jackson). You have a lot of students, so rather than checking by hand you write a short code that tells you if the students of interest are in class. Here's what that might look like."
   ]
  },
  {
   "cell_type": "code",
   "execution_count": 26,
   "id": "09d1af79",
   "metadata": {},
   "outputs": [
    {
     "name": "stdout",
     "output_type": "stream",
     "text": [
      "Oscar is in class\n"
     ]
    }
   ],
   "source": [
    "attendance = [\n",
    "    \"Alice\", \"Bob\", \"Catherine\", \"David\", \"Ella\",\n",
    "    \"Frank\", \"Grace\", \"Hannah\", \"Ian\", \"Julia\",\n",
    "    \"Kyle\", \"Laura\", \"Michael\", \"Nina\", \"Oscar\",\n",
    "    \"Paula\", \"Quinn\", \"Rachel\", \"Sam\", \"Tina\",\n",
    "    \"Uma\", \"Victor\", \"Wendy\", \"Xander\", \"Yara\",\n",
    "    \"Zane\", \"Abigail\", \"Benjamin\", \"Chloe\", \"Dylan\",\n",
    "    \"Ethan\", \"Fiona\", \"Gavin\", \"Hazel\", \"Isaac\",\n",
    "    \"Jasmine\", \"Kevin\", \"Lily\", \"Mason\", \"Nora\",\n",
    "    \"Olivia\", \"Peter\", \"Quincy\", \"Rose\", \"Scott\",\n",
    "    \"Tracy\", \"Ulysses\", \"Vanessa\", \"William\", \"Xena\",\n",
    "    \"Yasmine\", \"Zoey\", \"Aiden\", \"Bella\", \"Caleb\",\n",
    "    \"Diana\", \"Eli\", \"Faith\", \"George\", \"Harper\",\n",
    "    \"Ivy\", \"Jack\", \"Kara\", \"Leo\", \"Mia\",\n",
    "    \"Noah\", \"Olga\", \"Paul\", \"Queen\", \"Rob\",\n",
    "    \"Sophia\", \"Tyler\", \"Ursula\", \"Vincent\", \"Willow\",\n",
    "    \"Ximena\", \"Yusuf\", \"Zara\", \"Ava\", \"Blake\",\n",
    "    \"Connor\", \"Delilah\", \"Elias\", \"Freya\", \"Gabriel\",\n",
    "    \"Hope\", \"Isabel\", \"James\", \"Kayla\", \"Logan\",\n",
    "    \"Melody\", \"Nate\", \"Olive\", \"Parker\", \"Quinn\",\n",
    "    \"Riley\", \"Sophie\", \"Thomas\", \"Una\", \"Vera\"\n",
    "]\n",
    "\n",
    "\n",
    "if \"Oscar\" in attendance:\n",
    "    print(\"Oscar is in class\")\n",
    "    \n",
    "\n",
    "if \"Sarah\" in attendance:\n",
    "    print(\"Sarah is in class\")\n",
    "    \n",
    "    \n",
    "if \"Jackson\" in attendance:\n",
    "    print(\"Jackson is in class\")"
   ]
  },
  {
   "cell_type": "markdown",
   "id": "fa3747af",
   "metadata": {},
   "source": [
    "Along with `if` is `else`, which works as you might expect. `else` needs to come after an `if` statement, and will only run if the `if` statement does not, like this"
   ]
  },
  {
   "cell_type": "code",
   "execution_count": 27,
   "id": "7bc1cad7",
   "metadata": {},
   "outputs": [
    {
     "name": "stdout",
     "output_type": "stream",
     "text": [
      "But this will\n"
     ]
    }
   ],
   "source": [
    "if False:\n",
    "    print(\"This will not print\")\n",
    "\n",
    "else:\n",
    "    print(\"But this will\")"
   ]
  },
  {
   "cell_type": "markdown",
   "id": "bbcc85d2",
   "metadata": {},
   "source": [
    "Expanding on the previous example, we can use `else` to tell us if someone is not in class"
   ]
  },
  {
   "cell_type": "code",
   "execution_count": 28,
   "id": "7cff3df5",
   "metadata": {},
   "outputs": [
    {
     "name": "stdout",
     "output_type": "stream",
     "text": [
      "Oscar is in class\n",
      "Sarah is not in class\n",
      "Jackson is not in class\n"
     ]
    }
   ],
   "source": [
    "attendance = [\n",
    "    \"Alice\", \"Bob\", \"Catherine\", \"David\", \"Ella\",\n",
    "    \"Frank\", \"Grace\", \"Hannah\", \"Ian\", \"Julia\",\n",
    "    \"Kyle\", \"Laura\", \"Michael\", \"Nina\", \"Oscar\",\n",
    "    \"Paula\", \"Quinn\", \"Rachel\", \"Sam\", \"Tina\",\n",
    "    \"Uma\", \"Victor\", \"Wendy\", \"Xander\", \"Yara\",\n",
    "    \"Zane\", \"Abigail\", \"Benjamin\", \"Chloe\", \"Dylan\",\n",
    "    \"Ethan\", \"Fiona\", \"Gavin\", \"Hazel\", \"Isaac\",\n",
    "    \"Jasmine\", \"Kevin\", \"Lily\", \"Mason\", \"Nora\",\n",
    "    \"Olivia\", \"Peter\", \"Quincy\", \"Rose\", \"Scott\",\n",
    "    \"Tracy\", \"Ulysses\", \"Vanessa\", \"William\", \"Xena\",\n",
    "    \"Yasmine\", \"Zoey\", \"Aiden\", \"Bella\", \"Caleb\",\n",
    "    \"Diana\", \"Eli\", \"Faith\", \"George\", \"Harper\",\n",
    "    \"Ivy\", \"Jack\", \"Kara\", \"Leo\", \"Mia\",\n",
    "    \"Noah\", \"Olga\", \"Paul\", \"Queen\", \"Rob\",\n",
    "    \"Sophia\", \"Tyler\", \"Ursula\", \"Vincent\", \"Willow\",\n",
    "    \"Ximena\", \"Yusuf\", \"Zara\", \"Ava\", \"Blake\",\n",
    "    \"Connor\", \"Delilah\", \"Elias\", \"Freya\", \"Gabriel\",\n",
    "    \"Hope\", \"Isabel\", \"James\", \"Kayla\", \"Logan\",\n",
    "    \"Melody\", \"Nate\", \"Olive\", \"Parker\", \"Quinn\",\n",
    "    \"Riley\", \"Sophie\", \"Thomas\", \"Una\", \"Vera\"\n",
    "]\n",
    "\n",
    "if \"Oscar\" in attendance:\n",
    "    print(\"Oscar is in class\")\n",
    "    \n",
    "else:\n",
    "    print (\"Oscar is not in class\")\n",
    "    \n",
    "\n",
    "if \"Sarah\" in attendance:\n",
    "    print(\"Sarah is in class\")\n",
    "    \n",
    "else:\n",
    "    print(\"Sarah is not in class\")\n",
    "    \n",
    "    \n",
    "if \"Jackson\" in attendance:\n",
    "    print(\"Jackson is in class\")\n",
    "    \n",
    "else:\n",
    "    print(\"Jackson is not in class\")"
   ]
  },
  {
   "cell_type": "markdown",
   "id": "2bc72901",
   "metadata": {},
   "source": [
    "Finally, we have `elif`, which acts like a combination of `if` and `else`. Like `else`, it must be placed after `if`, and will only run if the `if` statement does not. However, like `if`, an `else` placed below it will only run if the `elif` statement doesn't. Here's how it works in practice."
   ]
  },
  {
   "cell_type": "code",
   "execution_count": 27,
   "id": "0a688333",
   "metadata": {},
   "outputs": [
    {
     "name": "stdout",
     "output_type": "stream",
     "text": [
      "This will print\n",
      "But this will print\n",
      "This will print\n"
     ]
    }
   ],
   "source": [
    "if False:\n",
    "    print(\"This will not print\")\n",
    "    \n",
    "elif True:\n",
    "    print(\"This will print\")\n",
    "    \n",
    "else:\n",
    "    print(\"But this will not print\")\n",
    "    \n",
    "#or\n",
    "\n",
    "if False:\n",
    "    print(\"This will not print\")\n",
    "    \n",
    "elif False:\n",
    "    print(\"This will not print\")\n",
    "    \n",
    "else:\n",
    "    print(\"But this will print\")\n",
    "    \n",
    "#or\n",
    "  \n",
    "if True:\n",
    "    print(\"This will print\")\n",
    "    \n",
    "elif True:\n",
    "    print(\"But this will not print\")\n",
    "    \n",
    "else:\n",
    "    print(\"And neither will this\")"
   ]
  },
  {
   "cell_type": "markdown",
   "id": "de52be29",
   "metadata": {},
   "source": [
    "Further expanding on our example, let's say the flu has been going around the school and many students are sick. We get a list from the front office of students who have called in sick. We can add to the code to tell us if the students of interest are sick."
   ]
  },
  {
   "cell_type": "code",
   "execution_count": 29,
   "id": "f2e23e62",
   "metadata": {},
   "outputs": [
    {
     "name": "stdout",
     "output_type": "stream",
     "text": [
      "Oscar is in class\n",
      "Sarah is not in class\n",
      "Jackson is sick\n"
     ]
    }
   ],
   "source": [
    "attendance = [\n",
    "    \"Alice\", \"Bob\", \"Catherine\", \"David\", \"Ella\",\n",
    "    \"Frank\", \"Grace\", \"Hannah\", \"Ian\", \"Julia\",\n",
    "    \"Kyle\", \"Laura\", \"Michael\", \"Nina\", \"Oscar\",\n",
    "    \"Paula\", \"Quinn\", \"Rachel\", \"Sam\", \"Tina\",\n",
    "    \"Uma\", \"Victor\", \"Wendy\", \"Xander\", \"Yara\",\n",
    "    \"Zane\", \"Abigail\", \"Benjamin\", \"Chloe\", \"Dylan\",\n",
    "    \"Ethan\", \"Fiona\", \"Gavin\", \"Hazel\", \"Isaac\",\n",
    "    \"Jasmine\", \"Kevin\", \"Lily\", \"Mason\", \"Nora\",\n",
    "    \"Olivia\", \"Peter\", \"Quincy\", \"Rose\", \"Scott\",\n",
    "    \"Tracy\", \"Ulysses\", \"Vanessa\", \"William\", \"Xena\",\n",
    "    \"Yasmine\", \"Zoey\", \"Aiden\", \"Bella\", \"Caleb\",\n",
    "    \"Diana\", \"Eli\", \"Faith\", \"George\", \"Harper\",\n",
    "    \"Ivy\", \"Jack\", \"Kara\", \"Leo\", \"Mia\",\n",
    "    \"Noah\", \"Olga\", \"Paul\", \"Queen\", \"Rob\",\n",
    "    \"Sophia\", \"Tyler\", \"Ursula\", \"Vincent\", \"Willow\",\n",
    "    \"Ximena\", \"Yusuf\", \"Zara\", \"Ava\", \"Blake\",\n",
    "    \"Connor\", \"Delilah\", \"Elias\", \"Freya\", \"Gabriel\",\n",
    "    \"Hope\", \"Isabel\", \"James\", \"Kayla\", \"Logan\",\n",
    "    \"Melody\", \"Nate\", \"Olive\", \"Parker\", \"Quinn\",\n",
    "    \"Riley\", \"Sophie\", \"Thomas\", \"Una\", \"Vera\"\n",
    "]\n",
    "\n",
    "sick = [\n",
    "    \"Jackson\", \"Emma\", \"Olivia\", \"Liam\", \"Sophia\",\n",
    "    \"Aiden\", \"Mia\", \"Noah\", \"Lucas\", \"Ava\"\n",
    "]\n",
    "\n",
    "\n",
    "if \"Oscar\" in attendance:\n",
    "    print(\"Oscar is in class\")\n",
    "    \n",
    "elif \"Oscar\" in sick:\n",
    "    print(\"Oscar is sick\")\n",
    "    \n",
    "else:\n",
    "    print(\"Oscar is not in class\")\n",
    "\n",
    "    \n",
    "if \"Sarah\" in attendance:\n",
    "    print(\"Sarah is in class\")\n",
    "    \n",
    "elif \"Sarah\" in sick:\n",
    "    print(\"Sarah is sick\")\n",
    "    \n",
    "else:\n",
    "    print(\"Sarah is not in class\")\n",
    "    \n",
    "    \n",
    "if \"Jackson\" in attendance:\n",
    "    print(\"Jackson is in class\")\n",
    "    \n",
    "elif \"Jackson\" in sick:\n",
    "    print(\"Jackson is sick\")\n",
    "    \n",
    "else:\n",
    "    print(\"Jackson is not in class\")"
   ]
  },
  {
   "cell_type": "markdown",
   "id": "cd167868",
   "metadata": {},
   "source": [
    "### While Loops\n",
    "\n",
    "The `while` loop works like a combination of the `if` statement and the `for` loop. Here is an example of how it works."
   ]
  },
  {
   "cell_type": "code",
   "execution_count": 30,
   "id": "760d5e4f",
   "metadata": {},
   "outputs": [
    {
     "name": "stdout",
     "output_type": "stream",
     "text": [
      "0\n",
      "1\n",
      "2\n",
      "3\n",
      "4\n",
      "5\n",
      "6\n",
      "7\n",
      "8\n",
      "9\n"
     ]
    }
   ],
   "source": [
    "i = 0\n",
    "while i < 10:\n",
    "    print(i)\n",
    "    i = i+1"
   ]
  },
  {
   "cell_type": "markdown",
   "id": "2f620da8",
   "metadata": {},
   "source": [
    "As you can see, the instructions under the `while` loop will repeat until the condition (here `i < 10`) is `False`. Be **very careful** using while loops, as it is extremely easy to write a code that will run forever. In fact (**don't try this**), the one small piece of code \n",
    "\n",
    "`while True:`\n",
    "\n",
    "`   i = 1` \n",
    "\n",
    "will only stop running when manually interupted by the user. If you ever do this on accident in a Jupyter notebook, go to \"Kernel\" at the top and press \"Interupt\" to manually stop it.\n",
    "\n",
    "A common method of avoiding this infinte loop is to include a `break` condition, like this simple code."
   ]
  },
  {
   "cell_type": "code",
   "execution_count": 31,
   "id": "d5a663da",
   "metadata": {},
   "outputs": [
    {
     "name": "stdout",
     "output_type": "stream",
     "text": [
      "Iteration 1: Current Value = 1\n",
      "Iteration 2: Current Value = 1.5\n",
      "Iteration 3: Current Value = 2.25\n",
      "Iteration 4: Current Value = 3.375\n",
      "Iteration 5: Current Value = 5.0625\n",
      "Iteration 6: Current Value = 7.59375\n",
      "Iteration 7: Current Value = 11.390625\n",
      "Iteration 8: Current Value = 17.0859375\n",
      "Iteration 9: Current Value = 25.62890625\n",
      "Iteration 10: Current Value = 38.443359375\n",
      "Iteration 11: Current Value = 57.6650390625\n",
      "Iteration 12: Current Value = 86.49755859375\n",
      "Target value reached or exceeded! Current Value = 129.746337890625\n"
     ]
    }
   ],
   "source": [
    "target_value = 100\n",
    "current_value = 1\n",
    "growth_rate = 1.5\n",
    "max_iterations = 20\n",
    "iterations = 0\n",
    "\n",
    "while iterations < max_iterations:\n",
    "    print(f\"Iteration {iterations + 1}: Current Value = {current_value}\")\n",
    "    current_value = current_value * growth_rate\n",
    "    iterations = iterations + 1\n",
    "    if current_value >= target_value:\n",
    "        print(f\"Target value reached or exceeded! Current Value = {current_value}\")\n",
    "        break\n",
    "else:\n",
    "    print(\"Reached maximum iterations without reaching the target value.\")"
   ]
  },
  {
   "cell_type": "markdown",
   "id": "3e611051",
   "metadata": {},
   "source": [
    "### Challenge\n",
    "\n",
    "Write a function `fibonacci(n)` that takes in the integer argument `n` and produces a list of the first `n` digits of the [Fibonacci sequence](https://en.wikipedia.org/wiki/Fibonacci_sequence). Then, write a new function `fibonacci_up_to(m)` that takes in the new integer argument `m` and gives a list of all of the digits of the Fibbonocci sequence less than `m`. Demonstrate that both work as intended using `print` statements for a variety of cases (i.e. try a bunch of numbers!). **Hint**, it may be helpful to initialize the set as `[0,1]` before doing any loops, and think about how to handle the case where `n=1`.\n",
    "\n",
    "This challenge may be difficult, feel free to ask for help!"
   ]
  },
  {
   "cell_type": "code",
   "execution_count": 189,
   "id": "a566251c",
   "metadata": {},
   "outputs": [],
   "source": [
    "def fibonacci(n):\n",
    "    #write your code here!\n",
    "    return sequence\n",
    "\n",
    "def fibonacci_up_to(m):\n",
    "    #write your code here!\n",
    "    return sequence"
   ]
  },
  {
   "cell_type": "code",
   "execution_count": 43,
   "id": "1f5f3648-eb85-4542-b797-2e95cafe0121",
   "metadata": {},
   "outputs": [],
   "source": [
    "#example solution\n",
    "\n",
    "def fibonacci(n):\n",
    "    \n",
    "    sequence = [0,1]\n",
    "    i = 1\n",
    "\n",
    "    if n == 1:\n",
    "        sequence = [0]\n",
    "    else:\n",
    "        while len(sequence)<n:\n",
    "            newnum = sequence[i-1] + sequence[i]\n",
    "            sequence.append(newnum)\n",
    "            i += 1\n",
    "\n",
    "    return sequence\n",
    "\n",
    "def fibonnaci_up_to(m):\n",
    "\n",
    "    sequence = [0,1]\n",
    "    i = 1\n",
    "\n",
    "    if m == 1:\n",
    "        return [0]\n",
    "\n",
    "    elif m == 2:\n",
    "        return [0,1,1]\n",
    "\n",
    "    else:\n",
    "        while sequence[-1] < m:\n",
    "            newnum = sequence[i-1] + sequence[i]\n",
    "            sequence.append(newnum)\n",
    "            i += 1\n",
    "        sequence = sequence[:-1]\n",
    "\n",
    "    return sequence\n"
   ]
  },
  {
   "cell_type": "code",
   "execution_count": 38,
   "id": "966b6ae1-fb68-41d4-a81c-3818e0ef2406",
   "metadata": {},
   "outputs": [
    {
     "data": {
      "text/plain": [
       "[0, 1, 1, 2, 3, 5, 8, 13, 21, 34]"
      ]
     },
     "execution_count": 38,
     "metadata": {},
     "output_type": "execute_result"
    }
   ],
   "source": [
    "fibonacci(10)"
   ]
  },
  {
   "cell_type": "code",
   "execution_count": 41,
   "id": "99444445-1e71-4cca-b12b-d9800d282eed",
   "metadata": {},
   "outputs": [
    {
     "data": {
      "text/plain": [
       "[0, 1, 1, 2, 3, 5, 8, 13, 21, 34, 55, 89, 144, 233, 377, 610, 987]"
      ]
     },
     "execution_count": 41,
     "metadata": {},
     "output_type": "execute_result"
    }
   ],
   "source": [
    "fibonnaci_up_to(1000)"
   ]
  },
  {
   "cell_type": "code",
   "execution_count": null,
   "id": "b99f4a85-c4dc-467d-bb8c-f3f50a6829c1",
   "metadata": {},
   "outputs": [],
   "source": []
  }
 ],
 "metadata": {
  "kernelspec": {
   "display_name": "Python 3",
   "language": "python",
   "name": "python3"
  },
  "language_info": {
   "codemirror_mode": {
    "name": "ipython",
    "version": 3
   },
   "file_extension": ".py",
   "mimetype": "text/x-python",
   "name": "python",
   "nbconvert_exporter": "python",
   "pygments_lexer": "ipython3",
   "version": "3.8.8"
  }
 },
 "nbformat": 4,
 "nbformat_minor": 5
}
