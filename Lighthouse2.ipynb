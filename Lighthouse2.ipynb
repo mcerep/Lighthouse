{
 "cells": [
  {
   "cell_type": "markdown",
   "id": "9ddda7b0-d373-4ecf-9464-4ce41aeab5cf",
   "metadata": {},
   "source": [
    "# Lighthouse Part 2\n",
    "by Matthew Cerep 1/28/25\n",
    "\n",
    "Now that we know the basics of python, let's use it to do some cool things! This notebook introduces basic functionalities of `numpy` and `matplotlib` and follows with exercises using them."
   ]
  },
  {
   "cell_type": "markdown",
   "id": "8c4bdd77-473d-47aa-97ba-13a022d670ac",
   "metadata": {},
   "source": [
    "## NumPy\n",
    "\n",
    "Scientists often need to run the same basic (and sometimes not-so-basic!) operations across codes. So we don't need to reinvent the wheel every time they come up, we utilize **libraries**. You can make custom libraries (and many do), but there are a handful of standard libriaries that you will see in almost any scientific python code. Perhaps the most essential is a library callesd `NumPy`, which we will go into first.\n",
    "\n",
    "To use numpy in a code, you first need to `import` it, like this."
   ]
  },
  {
   "cell_type": "code",
   "execution_count": 1,
   "id": "98da9c04-4ccf-46e1-a1d2-07dff0c19272",
   "metadata": {},
   "outputs": [],
   "source": [
    "import numpy as np  # The \"as np\" just defines \"np\" as an abbreviation for \"numpy\", which is standard in scientific codes"
   ]
  },
  {
   "cell_type": "markdown",
   "id": "b4f48be2-e253-49e0-8a99-e2510dd3d779",
   "metadata": {},
   "source": [
    "The standard datatype for NumPy is an `array`. It is essentially a `list` of numbers with some handy functionalities to make doing math easier. You create a `NumPy` array like this."
   ]
  },
  {
   "cell_type": "code",
   "execution_count": 2,
   "id": "a98722d1-6e74-456c-9875-3b9453a36e6a",
   "metadata": {},
   "outputs": [],
   "source": [
    "NormalList = [0,1,2,3,4,5] # this is a list\n",
    "\n",
    "array = np.array(NormalList) # this is that same list as an array"
   ]
  },
  {
   "cell_type": "markdown",
   "id": "28cd38eb-bbc6-43b7-891c-c9a67b952167",
   "metadata": {},
   "source": [
    "The same indexing tricks we learned for lists work on `NumPy` arrays as well."
   ]
  },
  {
   "cell_type": "code",
   "execution_count": 3,
   "id": "b3243065-a3bb-424d-93d6-f1dc24f17779",
   "metadata": {},
   "outputs": [
    {
     "name": "stdout",
     "output_type": "stream",
     "text": [
      "third element of the list: 2\n",
      "third element of the array: 2\n"
     ]
    }
   ],
   "source": [
    "print(f\"third element of the list: {NormalList[2]}\")\n",
    "print(f\"third element of the array: {array[2]}\")"
   ]
  },
  {
   "cell_type": "markdown",
   "id": "25d16ba1-4a98-49c7-a4c3-b9275d42803b",
   "metadata": {},
   "source": [
    "One of the most useful features of `arrays` is you can perform mathematical operations on all elements of the `array` at once. For example, if you wanted to divide ever element of a list by 10, you would need a `for` loop, like this."
   ]
  },
  {
   "cell_type": "code",
   "execution_count": 4,
   "id": "725beb1c-17d0-4b24-be02-978e7f3d8da4",
   "metadata": {},
   "outputs": [
    {
     "name": "stdout",
     "output_type": "stream",
     "text": [
      "[0.0, 0.1, 0.2, 0.3, 0.4, 0.5]\n"
     ]
    }
   ],
   "source": [
    "DivideByTen = [] #initialize\n",
    "\n",
    "for n in NormalList:\n",
    "    DivideByTen.append(n/10)\n",
    "\n",
    "print(DivideByTen)"
   ]
  },
  {
   "cell_type": "markdown",
   "id": "73bda764-7972-424c-866a-940ecf3fd416",
   "metadata": {},
   "source": [
    "With `arrays`, we can do the operation to the array itself, like this."
   ]
  },
  {
   "cell_type": "code",
   "execution_count": 5,
   "id": "322e1155-a6c0-4df4-80df-12ac775ab70c",
   "metadata": {},
   "outputs": [
    {
     "name": "stdout",
     "output_type": "stream",
     "text": [
      "[0.  0.1 0.2 0.3 0.4 0.5]\n"
     ]
    }
   ],
   "source": [
    "DivideArrayByTen = array/10\n",
    "\n",
    "print(DivideArrayByTen)"
   ]
  },
  {
   "cell_type": "markdown",
   "id": "76920daf-57c7-4adc-970a-0ba8e8d914a0",
   "metadata": {},
   "source": [
    "Other than `arrays`, `NumPy` comes with all of the standard math operations you would want, as well as some useful constants built in!"
   ]
  },
  {
   "cell_type": "code",
   "execution_count": 6,
   "id": "aaf2c566-1164-448b-9da0-5152698680bc",
   "metadata": {},
   "outputs": [
    {
     "name": "stdout",
     "output_type": "stream",
     "text": [
      "1.0\n",
      "-1.0\n",
      "2.0\n"
     ]
    }
   ],
   "source": [
    "print(np.cos(0)) #cos(0) = 1\n",
    "\n",
    "print(np.sin(3*np.pi/2)) # sin(3pi/2) = -1\n",
    "\n",
    "print(np.log(np.e**2)) # ln(e^2) = 2"
   ]
  },
  {
   "cell_type": "markdown",
   "id": "01df163f-2d59-4d6b-9b4e-4b678064965e",
   "metadata": {},
   "source": [
    "## Matplotlib\n",
    "\n",
    "Another super useful library you'll often see in scientific codes is `Matplotlib`. Like with `NumPy`, we `import` it like this"
   ]
  },
  {
   "cell_type": "code",
   "execution_count": 7,
   "id": "611757fd-3d4f-46ed-bc6d-5669e9d3ae08",
   "metadata": {},
   "outputs": [],
   "source": [
    "import matplotlib.pyplot as plt # again, plt is the standard abbreviation for the library"
   ]
  },
  {
   "cell_type": "markdown",
   "id": "f29e1c9d-7aba-4f78-a61b-7a42ef37dc8b",
   "metadata": {},
   "source": [
    "The most essential function in `Matplotlib` is, as you might have guessed, `plot`. `plot(x,y)` takes in 2 arguments, `x` (the list of x values for your data) and `y` (the corresponding list of y values for your data). Let's plot $y=x^2$ for $0<x<5$ as an example."
   ]
  },
  {
   "cell_type": "code",
   "execution_count": 8,
   "id": "2e093d96-8863-4a95-931e-fe42506812a9",
   "metadata": {},
   "outputs": [
    {
     "data": {
      "image/png": "[encoded data removed]",
      "text/plain": [
       "<Figure size 432x288 with 1 Axes>"
      ]
     },
     "metadata": {
      "needs_background": "light"
     },
     "output_type": "display_data"
    }
   ],
   "source": [
    "x = [0,1,2,3,4,5]\n",
    "y = [0,1,4,9,16,25] # y = x^2\n",
    "\n",
    "plt.plot(x,y)\n",
    "plt.xlabel(\"x\") # label you x axis with a string like this\n",
    "plt.ylabel(\"y\") # do the same for y like this\n",
    "plt.title(\"test plot\") #write a title like this\n",
    "plt.show() #write this after plot to display it"
   ]
  },
  {
   "cell_type": "markdown",
   "id": "02cbaa99-d997-402b-a6c5-130f33e1204d",
   "metadata": {},
   "source": [
    "You may notice that our plot is a bit grainy. This is because we only have 6 data points. To get more, we can take advantage of `NumPy`! The `NumPy` function `linspace(start, end, length)` will return an `array` of `length` numbers from `start` to `end` and is very useful for generating our `x` data set."
   ]
  },
  {
   "cell_type": "code",
   "execution_count": 9,
   "id": "67f858dd-93d7-484c-b819-d4be7f0ae705",
   "metadata": {},
   "outputs": [],
   "source": [
    "newx = np.linspace(0,5,1000) # will give 1000 numbers from 0 and 5"
   ]
  },
  {
   "cell_type": "markdown",
   "id": "636b8259-c39b-4781-8f06-f310a99cc262",
   "metadata": {},
   "source": [
    "Now that we have our `newx`, we can take advantage of the fact that it's an `array`to generate our `newy` with ease."
   ]
  },
  {
   "cell_type": "code",
   "execution_count": 10,
   "id": "f77b7a75-f9fd-4c71-9118-843472deb34a",
   "metadata": {},
   "outputs": [],
   "source": [
    "newy = newx**2"
   ]
  },
  {
   "cell_type": "markdown",
   "id": "4638dfa4-d78a-44a0-b7a8-889906029834",
   "metadata": {},
   "source": [
    "Now let's plot our larger data set for $y = x^2$."
   ]
  },
  {
   "cell_type": "code",
   "execution_count": 11,
   "id": "d0d364fe-38db-4cd9-8fe8-fe3153eb1509",
   "metadata": {},
   "outputs": [
    {
     "data": {
      "image/png": "[encoded data removed]",
      "text/plain": [
       "<Figure size 432x288 with 1 Axes>"
      ]
     },
     "metadata": {
      "needs_background": "light"
     },
     "output_type": "display_data"
    }
   ],
   "source": [
    "plt.plot(newx,newy)\n",
    "plt.xlabel(\"x\") # label you x axis with a string like this\n",
    "plt.ylabel(\"y\") # do the same for y like this\n",
    "plt.title(\"test plot\") #write a title like this\n",
    "plt.show() #write this after plot to display it"
   ]
  },
  {
   "cell_type": "markdown",
   "id": "530038f0-abe2-4711-a54d-454bf7110d52",
   "metadata": {},
   "source": [
    "Much better!\n",
    "\n",
    "You can also plot multiple data set on the same plot, like this."
   ]
  },
  {
   "cell_type": "code",
   "execution_count": 12,
   "id": "c56494b6-1ba0-4ff8-b4b6-a08b9fb19f7a",
   "metadata": {},
   "outputs": [
    {
     "data": {
      "image/png": "[encoded data removed]",
      "text/plain": [
       "<Figure size 432x288 with 1 Axes>"
      ]
     },
     "metadata": {
      "needs_background": "light"
     },
     "output_type": "display_data"
    }
   ],
   "source": [
    "plt.plot(newx,newx**2)\n",
    "plt.plot(newx, 2*newx**2)\n",
    "plt.plot(newx, 3*newx**2)\n",
    "plt.plot(newx, 4*newx**2)\n",
    "plt.xlabel(\"x\") # label you x axis with a string like this\n",
    "plt.ylabel(\"y\") # do the same for y like this\n",
    "plt.title(\"test plot\") #write a title like this\n",
    "plt.show() #write this after plot to display it"
   ]
  },
  {
   "cell_type": "markdown",
   "id": "798c7a37-c573-41ef-98d9-0c7f6224a05c",
   "metadata": {},
   "source": [
    "It would be nice to add labels so we know which function is which. It's done so like this."
   ]
  },
  {
   "cell_type": "code",
   "execution_count": 13,
   "id": "6a9c52ed-c3db-4bb8-8ab2-0b2620d758fe",
   "metadata": {},
   "outputs": [
    {
     "data": {
      "image/png": "[encoded data removed]",
      "text/plain": [
       "<Figure size 432x288 with 1 Axes>"
      ]
     },
     "metadata": {
      "needs_background": "light"
     },
     "output_type": "display_data"
    }
   ],
   "source": [
    "plt.plot(newx,newx**2, label = \"1\")\n",
    "plt.plot(newx, 2*newx**2, label = \"2\")\n",
    "plt.plot(newx, 3*newx**2, label = \"3\")\n",
    "plt.plot(newx, 4*newx**2, label = \"4\")\n",
    "plt.xlabel(\"x\") # label you x axis with a string like this\n",
    "plt.ylabel(\"y\") # do the same for y like this\n",
    "plt.title(\"test plot\") # write a title like this\n",
    "plt.legend() # write this to show the legend\n",
    "plt.show() # write this after plot to display it"
   ]
  },
  {
   "cell_type": "markdown",
   "id": "ecce3916",
   "metadata": {},
   "source": [
    "## Fibonacci\n",
    "\n",
    "With these new tools in hand, let's revisit the function you created at the end of the last notebook. You can paste in your own ones if you'd like (and I encourage you to do so!), but below are two example functions from that challenge."
   ]
  },
  {
   "cell_type": "code",
   "execution_count": 14,
   "id": "9469c822-8658-4bfe-b66d-faf8c8703766",
   "metadata": {},
   "outputs": [],
   "source": [
    "#example solution\n",
    "\n",
    "def fibonacci(n):\n",
    "    \n",
    "    sequence = [0,1]\n",
    "    i = 1\n",
    "\n",
    "    if n == 1:\n",
    "        sequence = [0]\n",
    "    else:\n",
    "        while len(sequence)<n:\n",
    "            newnum = sequence[i-1] + sequence[i]\n",
    "            sequence.append(newnum)\n",
    "            i += 1\n",
    "\n",
    "    return sequence\n",
    "\n",
    "def fibonnaci_up_to(m):\n",
    "\n",
    "    sequence = [0,1]\n",
    "    i = 1\n",
    "\n",
    "    if m == 1:\n",
    "        return [0]\n",
    "\n",
    "    elif m == 2:\n",
    "        return [0,1,1]\n",
    "\n",
    "    else:\n",
    "        while sequence[-1] < m:\n",
    "            newnum = sequence[i-1] + sequence[i]\n",
    "            sequence.append(newnum)\n",
    "            i += 1\n",
    "        sequence = sequence[:-1]\n",
    "\n",
    "    return sequence\n",
    "        "
   ]
  },
  {
   "cell_type": "markdown",
   "id": "a512ee2f",
   "metadata": {},
   "source": [
    "As a reminder, the Fibonacci sequence is a sequence of numbers where each number in the sequence is the sum of the two preceeding numbers, 0,1,1,2,3,5,8,13,21,... . This sequence has the special property that, the higher you go, the closer the ratio of two consecutive numbers gets to a special constant \n",
    "\n",
    "\\begin{equation}\n",
    "\t\\phi = \\frac{1 + \\sqrt{5}}{2} \\approx 1.618033988749\\ldots\n",
    "\\end{equation}\n",
    "\n",
    "called \"the golden ratio\". Like $\\pi$, this number is irrational, with an infinite number of digits after the decimal that do not repeat. Using the tricks we just learned, we are going to prove the Fibonacci sequence has this property!\n",
    "\n",
    "First, let's state the problem a bit more rigorously to make it clear exactly what we need to do (if this is part is confusing, don't worry, it's not essential for the next steps).\n",
    "\n",
    "The property of the sequence we described earlier can be recast in the language of mathematics as the following,\n",
    "\n",
    "\\begin{equation}\n",
    "    \\lim_{a \\to \\infty} \\frac{n_{a+1}}{n_{a}} = \\phi\n",
    "\\end{equation}\n",
    "\n",
    "where $n_a$ is the ath digit of the Fibonacci sequence.\n",
    "\n",
    "Let's walk through proving this. First, set a variable `sequence` as a numpy array containing the first 30 or so digits of the sequence. "
   ]
  },
  {
   "cell_type": "code",
   "execution_count": null,
   "id": "b27e5222",
   "metadata": {},
   "outputs": [],
   "source": []
  },
  {
   "cell_type": "markdown",
   "id": "7ff634f7",
   "metadata": {},
   "source": [
    "Then, create another array called `sequenceshift` equal to the the original `sequence` array with the first element removed, effectively \"shifting\" our entire sequence up by one. **Hint** - Use slicing for these next few tasks (discussed in part 1!)."
   ]
  },
  {
   "cell_type": "code",
   "execution_count": null,
   "id": "dde3c43b",
   "metadata": {},
   "outputs": [],
   "source": []
  },
  {
   "cell_type": "markdown",
   "id": "ae4a8487",
   "metadata": {},
   "source": [
    "We now have one list with all 30 numbers and one with the last 29 numbers. We are ultimately interested in the ratio of these two sets, so we can use the fact that we can divide `numpy` arrays by each other to accomplish this. However, in order to divide the elements of one array by the elements in another, the arrays must be the same length. To do this, remove the last element from `sequence` (i.e. leave the first 29 numbers). "
   ]
  },
  {
   "cell_type": "code",
   "execution_count": null,
   "id": "7cd8e1ab",
   "metadata": {},
   "outputs": [],
   "source": []
  },
  {
   "cell_type": "markdown",
   "id": "891ffad1",
   "metadata": {},
   "source": [
    "Now that the arrays are the same length, dividing the shifted array by the original array will give us the ratio of consecutive numbers in the sequence! One last issue, though. We know the sequence starts as $0,1,1,\\ldots$, and so the first ratio would be $\\frac{1}{0}$, which isn't a valid operation. To fix this, remove the first element from both arrays."
   ]
  },
  {
   "cell_type": "code",
   "execution_count": null,
   "id": "01347f82",
   "metadata": {},
   "outputs": [],
   "source": []
  },
  {
   "cell_type": "markdown",
   "id": "0aebc2ef",
   "metadata": {},
   "source": [
    "Now that that issue is avoided, let's finally make an array of the ratios! Define the variable `ratios` that is `sequenceshift` divided by `sequence`."
   ]
  },
  {
   "cell_type": "code",
   "execution_count": null,
   "id": "63ba76b2-1103-4168-a8b6-dc4cd8577fc5",
   "metadata": {},
   "outputs": [],
   "source": []
  },
  {
   "cell_type": "markdown",
   "id": "58f2a537",
   "metadata": {},
   "source": [
    "Now that we have what we are interested in, let's analyze it. Create a `matplotlib` plot of these ratios for each step (hint: you can create your x values using `range(len(ratios))`)."
   ]
  },
  {
   "cell_type": "code",
   "execution_count": null,
   "id": "c5220ffc-8381-4f30-b8d2-c85449970bb1",
   "metadata": {
    "scrolled": true
   },
   "outputs": [],
   "source": []
  },
  {
   "cell_type": "markdown",
   "id": "6f05b643",
   "metadata": {},
   "source": [
    "If if there any bugs, you should see that the ratios settle down to a constant value after 5 or so iterations. Let's see if this agrees with our theoretical prediction of $\\phi = \\frac{1 + \\sqrt{5}}{2}$. To help visualize this, you can use the `matplotlib` function `axhline`, which draws a straight line at the y value you specify. Below is that function with the value for our prediction entered in, add it to your plot and see if it agrees!\n",
    "\n",
    "`plt.axhline(((1 + 5 ** 0.5) / 2), color = \"red\", linestyle = \"--\")`\n",
    "\n",
    "Note, `color = \"red\"` just specifies a color, and `linestyle = \"--\"` makes the line dashed."
   ]
  },
  {
   "cell_type": "code",
   "execution_count": null,
   "id": "73413df5",
   "metadata": {
    "scrolled": true
   },
   "outputs": [],
   "source": []
  },
  {
   "cell_type": "markdown",
   "id": "ab57dd25",
   "metadata": {},
   "source": [
    "## Phase Folding\n",
    "\n",
    "For this next exercise, we are going to utilize some functionalities of `numpy` and `matplotlib` to create and analyze some model pulsar data! This may be fairly challenging, so feel free to ask mentors questions!\n",
    "\n",
    "**INTRO INFO BY GRAHAM**\n",
    "\n",
    "First, we need to be able to create a single pulse. To do so, we are going to model it as a Gaussian, or Bell Curve, as you may have heard it called. Mathematically, a Gaussian takes the following form\n",
    "\n",
    "\\begin{equation}\n",
    "    f(x) = e^{-\\frac{(x - \\mu)^2}{2\\sigma^2}}.\n",
    "\\end{equation}\n",
    "\n",
    "Where $\\mu$ (the Greek letter mu) is the $x$ value the curve is centered at and $\\sigma$ (the Greek letter sigma) describes the width of the curve.\n",
    "\n",
    "**IMAGE SHOWING A GAUSSIAN**\n",
    "\n",
    "Below, using the equation above, write a function `gaussian(x, mu, sigma)` that takes in the float arguments `x`, the input value, `mu`, the center of the Gaussian, and `sigma`, the spread, and returns the value of the function above those parameters at point `x`. Confirm it works by showing $f(10) \\approx 0.135$ if $\\mu = 0$ and $\\sigma = 5$.\n",
    "\n",
    "**Hint** - `numpy` has the constant $e$ built into it using `np.e`"
   ]
  },
  {
   "cell_type": "code",
   "execution_count": null,
   "id": "baccfd45",
   "metadata": {},
   "outputs": [],
   "source": []
  },
  {
   "cell_type": "markdown",
   "id": "9d63e29d",
   "metadata": {},
   "source": [
    "Let show that this function has the shape we want. Use `np.linspace` to create an x-axis and use `matplotlib` to plot the function over this interval. Choose values that are most appropriate."
   ]
  },
  {
   "cell_type": "code",
   "execution_count": null,
   "id": "709ee2ae",
   "metadata": {},
   "outputs": [],
   "source": []
  },
  {
   "cell_type": "markdown",
   "id": "bb796fe6",
   "metadata": {},
   "source": [
    "Now that we can create a single pulse, but real pulsar signals come in a series at regular intervals. Let's say we want to mimic the signal from a pulsar with a period of $T = 0.5$ seconds observed over a $10$ second period, where a data point is recorded ever $0.01$ seconds. Define the variables `start`, `end`, `period`, and `sampletime` (the sampling rate, i.e. the spacing between the numbers) below, assuming we start at $0$ seconds."
   ]
  },
  {
   "cell_type": "code",
   "execution_count": null,
   "id": "fd7347f0",
   "metadata": {},
   "outputs": [],
   "source": []
  },
  {
   "cell_type": "markdown",
   "id": "3463c89a",
   "metadata": {},
   "source": [
    "Now let's make our time axis. Use `np.linspace(start,end,step)` to do this, and name the resulting numpy array `times`. Instead of an integer, first define `steps` as a variable that combines `start`, `end`, and `rate` to find the correct number of steps. **Hint** - you can use `int(float)` to turn floats into integers, like `int(2.5) = 2`. You will need to do this to make sure `steps` is and integer value."
   ]
  },
  {
   "cell_type": "code",
   "execution_count": null,
   "id": "8398bbf8",
   "metadata": {},
   "outputs": [],
   "source": []
  },
  {
   "cell_type": "markdown",
   "id": "e191cc10",
   "metadata": {},
   "source": [
    "Now let's think about the pulses themselves. We have two values we can adjust, $\\mu$ and $\\sigma$. What would we make them?\n",
    "\n",
    "$\\sigma$ defines the width of the pulse. Pulsar pulses are very steep, so we want `sigma` to be thin. This means we want to choose a value much less than the period. Any sufficiently small number will do, and you're free to play with this later, but for now let's use $\\sigma = \\frac{T}{10}$ where $T$ is the period. Set `sigma` appropriately below."
   ]
  },
  {
   "cell_type": "code",
   "execution_count": null,
   "id": "d919203a",
   "metadata": {},
   "outputs": [],
   "source": []
  },
  {
   "cell_type": "markdown",
   "id": "9324f7e4",
   "metadata": {},
   "source": [
    "$\\mu$ is a but trickier. It defines where the pulse is centered at, so it makes sense that we will want to use some multiples of the period for $\\mu$. To implement this, we will use a `while` loop.\n",
    "\n",
    "First, initialize an array of zeroes the same length as our `times` array. To do this, we can use the `numpy` function `np.zeros(n)`, which will initialize an array of `n` zeros. Using this, create an array called `data` below. **Hint** - Think carefuly about what `n` should be."
   ]
  },
  {
   "cell_type": "code",
   "execution_count": null,
   "id": "063b5756",
   "metadata": {},
   "outputs": [],
   "source": []
  },
  {
   "cell_type": "markdown",
   "id": "3a842ef6",
   "metadata": {},
   "source": [
    "For simplicity, let's say that the first pulse occurs $\\frac{T}{2}$ after the `start` time, where $T$ is the period. Initialize the variable `mu` below appropriately."
   ]
  },
  {
   "cell_type": "code",
   "execution_count": null,
   "id": "717e9b2b",
   "metadata": {},
   "outputs": [],
   "source": []
  },
  {
   "cell_type": "markdown",
   "id": "6bbe90d6",
   "metadata": {},
   "source": [
    "Now let's make our `while` loop! First, let's think about what we need to do. With the first pulse centered at $t = t_0 + \\frac{T}{2}$ (where $t_0$ is the `start` time), we want to add a train of pulses to the data. The pulses are seperated by $T$ time (since this is what the period defines), so we want to apply pulses centered at $t = t_0 + \\frac{T}{2}$, $t = t_0 + \\frac{T}{2} + T$, $t = t_0 + \\frac{T}{2} + 2T$, and so on, until the time $t = t_0 + \\frac{T}{2} + nT$ (where $n$ is some integer indicating how many times we've added $T$) is more than the `end` time. Now, using a `while` loop, apply a gaussian to the `data` array using our `gaussian(x, mu, sigma)` function with the appropriate `mu`, redefine `mu` so that it's `period` step forwards, and repeat until `mu > end`."
   ]
  },
  {
   "cell_type": "code",
   "execution_count": null,
   "id": "6452f842",
   "metadata": {},
   "outputs": [],
   "source": []
  },
  {
   "cell_type": "markdown",
   "id": "dad9c439",
   "metadata": {},
   "source": [
    "Now use `matplotlib` to plot `times` as our x value and`data` as our y value."
   ]
  },
  {
   "cell_type": "code",
   "execution_count": null,
   "id": "b11edfd9",
   "metadata": {},
   "outputs": [],
   "source": []
  },
  {
   "cell_type": "markdown",
   "id": "22bea377",
   "metadata": {},
   "source": [
    "Great! Now we have our series of pulses! In the real world, though, data is rarely this clean. To simulate real data, we are going to add random noise ourself. To do so, we're going to use a built-in `numpy` function called `np.random.normal(center, spread, size)`. We won't worry about the exact details of what this function is doing (it's related to the Gaussian we discussed earlier, if you're interested ask a mentor!), but for a given `center` and `scale` it gives a `numpy` array of `size` random numbers. Use this function to create a `numpy `array called `noise` with `center = 0`, `spread = 0.4`, and `size` the same as the length of our `data` array. Then, add the `noise` to the `data` array."
   ]
  },
  {
   "cell_type": "code",
   "execution_count": null,
   "id": "ff47989e",
   "metadata": {},
   "outputs": [],
   "source": []
  },
  {
   "cell_type": "markdown",
   "id": "e0732731",
   "metadata": {},
   "source": [
    "Now let's see what the noisy data looks like! Use `matplotlib` with `times` as the x axis and `data` as the y axis to view it."
   ]
  },
  {
   "cell_type": "code",
   "execution_count": null,
   "id": "94603e10",
   "metadata": {},
   "outputs": [],
   "source": []
  },
  {
   "cell_type": "markdown",
   "id": "c0cd384e",
   "metadata": {},
   "source": [
    "Look how chaotic it is! Surely we can't detect a pulsar over this noise, no? Well, astronomers have some tricks up their sleeve. We are now going to do a process called *phase folding* on this data. Since we know the period of the underlying signal, phase folding works by cutting the signal into chunks of length $T$ (the period) and plotting the resulting data on top of each other as a scatter plot (i.e. we don't connect the data points with a line).\n",
    "\n",
    "First, we need to split our `data` array into a series of arrays of length `period`. Rather than modifying `data` itself, we will create a new time array. It will be like the `times` array, except whenever the value hits $T$, the `period`, it restarts at 0, and repeats. To do this, use the modulo operator `%` on the `times` array to create a new array `timesfolded` that restarts at 0 when the time hits a multiple of the `period`."
   ]
  },
  {
   "cell_type": "code",
   "execution_count": null,
   "id": "23090a6e",
   "metadata": {},
   "outputs": [],
   "source": []
  },
  {
   "cell_type": "markdown",
   "id": "db3d9757",
   "metadata": {},
   "source": [
    "With this new time axis, let's make a scatter plot. To do so, use the `matplotlib` function `plt.scatter(x,y)`, which works the same as `plt.plot(x,y)` except it won't connect the data with a line. Use `timesfolded` as the x data and `data` as the y data and make a scatter plot below."
   ]
  },
  {
   "cell_type": "code",
   "execution_count": null,
   "id": "76ad2d0f",
   "metadata": {},
   "outputs": [],
   "source": []
  },
  {
   "cell_type": "markdown",
   "id": "55714de1",
   "metadata": {},
   "source": [
    "Despite how noisy we made it, you can still see a clear periodic pulse in the data! We know what the underlying signal should be, so let's made a dashed line showing it on this plot. Create a new array `shorttimes` that goes from `0` to `period` using `np.linspace`, and then create the array `shortpulse` by using our `gaussian` function on the `shorttimes` array. Then, plot the scatterplot again and add a red dashed line for the underlying pulse using `plt.plot(x,y, color = \"r\", linestyle = \"--\")`."
   ]
  },
  {
   "cell_type": "code",
   "execution_count": null,
   "id": "d417f7bd",
   "metadata": {},
   "outputs": [],
   "source": []
  },
  {
   "cell_type": "markdown",
   "id": "cb15ba81",
   "metadata": {},
   "source": [
    "Congratulations, you've recovered the pulsar signal out of noisy data!"
   ]
  },
  {
   "cell_type": "code",
   "execution_count": null,
   "id": "b6ba4c7f-a6cd-4ced-a538-b851efdb4835",
   "metadata": {},
   "outputs": [],
   "source": []
  }
 ],
 "metadata": {
  "kernelspec": {
   "display_name": "Python 3",
   "language": "python",
   "name": "python3"
  },
  "language_info": {
   "codemirror_mode": {
    "name": "ipython",
    "version": 3
   },
   "file_extension": ".py",
   "mimetype": "text/x-python",
   "name": "python",
   "nbconvert_exporter": "python",
   "pygments_lexer": "ipython3",
   "version": "3.8.8"
  }
 },
 "nbformat": 4,
 "nbformat_minor": 5
}
