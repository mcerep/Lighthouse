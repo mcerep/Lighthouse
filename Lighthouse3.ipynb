{
 "cells": [
  {
   "cell_type": "markdown",
   "id": "3e9e19fb-775b-4ce4-a8bf-7571a95a4184",
   "metadata": {},
   "source": [
    "# Lighthouse Part 3\n",
    "by Graham Doskoch 1/29/25\n",
    "\n",
    "One of the most useful nonstandard Python packages is `astropy`, a library commonly used in astronomy research. It provides functions and tools to make computations simpler and more efficient. This notebook describes some of the most powerful and ubiquitous features of `astropy`, but more complex tutorials are available on the Internet (including [a new website](https://learn.astropy.org/) set up by `astropy` developers)."
   ]
  },
  {
   "cell_type": "markdown",
   "id": "f0c4aba8-5d39-40c0-85dd-2ce559b4e7a9",
   "metadata": {},
   "source": [
    "# Units and constants\n",
    "\n",
    "So far, the calculations you've done in these notebooks have used unitless quantities. This simplifies the code but also raises the odds of making an error arising from improper unit conversions.\n",
    "\n",
    "`astropy` has two helpful modules that we're going to practice with: `astropy.units` and `astropy.constants`. The former lets us attach units to Python variables; the second contains a set of physical constants, so you don't have to keep looking up their values and hardcoding them in -- another way to make mathematical errors. Let's import them both, as well as `numpy` and `matplotlib`: "
   ]
  },
  {
   "cell_type": "code",
   "execution_count": null,
   "id": "0ff207ab-b5cc-4f29-a18e-039b7e30a354",
   "metadata": {},
   "outputs": [],
   "source": [
    "import astropy.units as u\n",
    "import astropy.constants as const\n",
    "\n",
    "import numpy as np\n",
    "import matplotlib.pyplot as plt"
   ]
  },
  {
   "cell_type": "markdown",
   "id": "4fde790e-797e-48f7-85e5-8888013d7821",
   "metadata": {},
   "source": [
    "Say I'm studying a pulsar that lies 1000 parsecs away, has a mass 1.4 times that of the Sun and a radius of 10 kilometers, and spins twice per second. I can define variables that describe these properties -- and give them units:"
   ]
  },
  {
   "cell_type": "code",
   "execution_count": null,
   "id": "5140088b-9058-4277-af71-caad7b84e44c",
   "metadata": {},
   "outputs": [],
   "source": [
    "dist = 1000 * u.pc   # can also use u.parsec\n",
    "mass = 1.4 * u.M_sun # can also use u.Msun or u.solMass\n",
    "radius = 1000 * u.m  # can also use u.meter\n",
    "period = 0.5 * u.s   # can also use u.second"
   ]
  },
  {
   "cell_type": "markdown",
   "id": "97713426-1ec6-4f24-b655-0b5174877fc1",
   "metadata": {},
   "source": [
    "Now each of these variables has an attached quantity: the unit being used. Let's play around with this. Try adding together `dist` and `mass`, and see what happens."
   ]
  },
  {
   "cell_type": "code",
   "execution_count": null,
   "id": "30ca1147-87ea-4d8c-8421-d2b85033aced",
   "metadata": {},
   "outputs": [],
   "source": []
  },
  {
   "cell_type": "markdown",
   "id": "911f4a17-4851-41b2-a5ed-20c8a5d3ca8f",
   "metadata": {},
   "source": [
    "You should get an error! For example, we can't add together parsecs and solar masses, because they describe different types of quantities: distances and masses. Now say that the pulsar has moved one astronomical unit (AU), and we need to define its new distance:"
   ]
  },
  {
   "cell_type": "code",
   "execution_count": null,
   "id": "4d609081-e1f7-4bcc-84d4-7d451f576f91",
   "metadata": {},
   "outputs": [],
   "source": [
    "offset = 1 * u.au\n",
    "new_dist = dist + offset"
   ]
  },
  {
   "cell_type": "markdown",
   "id": "f2479ad8-0121-4c6b-a5a9-25edc788633d",
   "metadata": {},
   "source": [
    "This time, we have no issues! Both the parsec and the AU describe distances. If we play around with `new_dist`, we find that the variable has implicitly converted `offset` to parsecs before adding it to `dist`, so `new_dist` has units of parsecs. "
   ]
  },
  {
   "cell_type": "code",
   "execution_count": null,
   "id": "1f513270-f63a-488b-8bce-e391aa1a62ae",
   "metadata": {},
   "outputs": [],
   "source": [
    "print(new_dist)"
   ]
  },
  {
   "cell_type": "markdown",
   "id": "69eb5bba-7d2c-4749-92a9-aed5d71650fa",
   "metadata": {},
   "source": [
    "Say that later on, we forget what units `new_dist` is in. We can find the variable's units and value (in those units) pretty easily:"
   ]
  },
  {
   "cell_type": "code",
   "execution_count": null,
   "id": "d4c3c7e0-5f43-4886-8967-7575777372d9",
   "metadata": {},
   "outputs": [],
   "source": [
    "print(new_dist.unit)\n",
    "print(new_dist.value)"
   ]
  },
  {
   "cell_type": "markdown",
   "id": "a35a861a-3942-43f7-b4b0-12ed9b512fb8",
   "metadata": {},
   "source": [
    "Maybe I actually want to know the distance to the pulsar in AU, rather than parsecs. I can do a coordinate conversion, using the `.to()` option:"
   ]
  },
  {
   "cell_type": "code",
   "execution_count": null,
   "id": "29cc1277-0266-4c82-bd82-eecbaf894f60",
   "metadata": {},
   "outputs": [],
   "source": [
    "print(new_dist.to(u.au))"
   ]
  },
  {
   "cell_type": "markdown",
   "id": "5e17b583-80c1-4b5b-af32-dc7bb2c4f456",
   "metadata": {},
   "source": [
    "Of course, `.to()` will fail if I try to convert between incompatible units. Try converting `new_dist` to seconds, and see what happens."
   ]
  },
  {
   "cell_type": "code",
   "execution_count": null,
   "id": "7f826256-b5f0-48ca-bc34-94fe95bc6490",
   "metadata": {},
   "outputs": [],
   "source": []
  },
  {
   "cell_type": "markdown",
   "id": "4adc5f17-906b-4dde-b930-3079e90ef6f7",
   "metadata": {},
   "source": [
    "There are so many different units you can use. For a full overview, see the `astropy` [units reference page](https://docs.astropy.org/en/stable/units/ref_api.html)."
   ]
  },
  {
   "cell_type": "markdown",
   "id": "8cdf0892-48fc-49c9-a6b8-16ca34f774af",
   "metadata": {},
   "source": [
    "Once you've assigned units to your quantities of interest, you can do more complicated calculations that involve physical constants via `astropy.constants`. As a simple example, maybe I want to calculate how long ago the pulsar emitted the signal I'm currently observing. Radio waves travel at approximately the speed of light, so I can divide `new_dist` by the speed of light to get time it took the signal to reach my telescope.\n",
    "\n",
    "I could look up the speed of light and assign a new variable called `speed_of_light` with the value I find and the appropriate units. But this is time-consuming and might lead to errors if my value isn't precise enough. Fortunately, `astropy.constants` has the speed of light built in, as `const.c`. I can now calculate the travel time much quicker:"
   ]
  },
  {
   "cell_type": "code",
   "execution_count": null,
   "id": "9c25f2b7-8bf2-465a-8e48-ec40fc8db1df",
   "metadata": {},
   "outputs": [],
   "source": [
    "travel_time = new_dist / const.c\n",
    "print(travel_time)"
   ]
  },
  {
   "cell_type": "markdown",
   "id": "921106f5-73a6-450b-9eb2-a5f6cff48cc4",
   "metadata": {},
   "source": [
    "The code hasn't given `travel_time` a value in any single nice units, so I'll convert it to years using `.to()`:"
   ]
  },
  {
   "cell_type": "code",
   "execution_count": null,
   "id": "e26aed49-42c4-4e20-9688-15839d2d20b3",
   "metadata": {},
   "outputs": [],
   "source": [
    "travel_time = travel_time.to(u.yr)\n",
    "print(travel_time)"
   ]
  },
  {
   "cell_type": "markdown",
   "id": "982b8d4f-ed0c-4a41-a63e-67dd80889dd2",
   "metadata": {},
   "source": [
    "As with units, `astropy` has a host of different constants available, which you can find on [its website](https://docs.astropy.org/en/latest/constants/index.html#reference-api)."
   ]
  },
  {
   "cell_type": "markdown",
   "id": "604d6611-5d1a-464f-9f2c-f4b02b002d55",
   "metadata": {},
   "source": [
    "To cap off this section, let's try a couple exercises. First, calculate the gravitational acceleration on the surface of the neutron star, as predicted by Newtonian gravity (which will be wrong, since the gravitational field is so high -- but it's fun all the same!). To do this, you'll need to use the gravitational constant, $G$, which you can use with `const.G`. Give the answer in meters per second squared."
   ]
  },
  {
   "cell_type": "code",
   "execution_count": null,
   "id": "92a1e18f-b444-4789-bc3a-9845d85de9da",
   "metadata": {},
   "outputs": [],
   "source": []
  },
  {
   "cell_type": "markdown",
   "id": "82169eb5-d497-44ee-9249-301b4fca8ef5",
   "metadata": {},
   "source": [
    "The second exercise is a little more complicated. We know that radio waves don't actually travel through the interstellar medium at the speed of light. It experiences a dispersive delay, which depends on the frequency of the waves, $f$:\n",
    "$$\\Delta t = \\mathcal{D}\\frac{\\mathrm{DM}}{f^2}$$\n",
    "where the dispersion constant $\\mathcal{D}=4.148808\\times10^3$ MHz$^2$ pc$^{-1}$ cm$^3$ s.\n",
    "\n",
    "Say our pulsar has a dispersion measure of 36 pc cm$^{-3}$. Using `astropy.units` and `astropy.constants`, calculate the dispersive delay, in seconds, of radio waves from the pulsar at a frequency of 1500 MHz."
   ]
  },
  {
   "cell_type": "code",
   "execution_count": null,
   "id": "5c190a50-519e-41f2-be25-e1c687efe281",
   "metadata": {},
   "outputs": [],
   "source": []
  },
  {
   "cell_type": "markdown",
   "id": "a6cffc65-6c42-4764-9a02-5f12554b3ad1",
   "metadata": {},
   "source": [
    "# Coordinates\n",
    "\n",
    "Many astronomical calculations require coordinates and coordinate transformations. Perhaps you know a source's location in the sky in equatorial coordinates and want to know its location in Galactic coordinates. Maybe you simply want to figure out the angular separation between two objects. `astropy` has the tools to help you do all of the above, in the `astropy.coordinates` module.\n",
    "\n",
    "The best way to work with coordinates in `astropy` revolves around the `SkyCoord` class. `SkyCoord` lets you create an object representing a location in the sky."
   ]
  },
  {
   "cell_type": "code",
   "execution_count": null,
   "id": "0bcc243f-77f1-4168-91f5-6cfe3abab282",
   "metadata": {},
   "outputs": [],
   "source": [
    "from astropy.coordinates import SkyCoord"
   ]
  },
  {
   "cell_type": "markdown",
   "id": "dc6ed287-8171-4759-ad46-32766f3d3bac",
   "metadata": {},
   "source": [
    "To create a `SkyCoord` object, we need to specify its location in a given coordinate system. Maybe we happen to know that our pulsar has a right ascension of 17:45:42 and a declination of -29:00:30, placing it close to our line of sight toward the Galactic Center. We create a `SkyCoord` object like this:"
   ]
  },
  {
   "cell_type": "code",
   "execution_count": null,
   "id": "d944002d-c529-47aa-958a-303950cff0bc",
   "metadata": {},
   "outputs": [],
   "source": [
    "coords = SkyCoord(ra=\"17:45:42\", dec=\"-29:00:30\", frame=\"icrs\", unit=(u.hourangle, u.deg))"
   ]
  },
  {
   "cell_type": "markdown",
   "id": "89a768b1-f67c-4fb3-8884-6e203184256c",
   "metadata": {},
   "source": [
    "It's easy to recover the right ascension and declination, which are automatically given in degrees. You can get the exact number of degrees using the `.value` attribute."
   ]
  },
  {
   "cell_type": "code",
   "execution_count": null,
   "id": "1e04c8a7-bbff-4a4a-a222-5c3e302e7e8c",
   "metadata": {},
   "outputs": [],
   "source": [
    "ra = coords.ra\n",
    "dec = coords.dec\n",
    "print(ra, dec)\n",
    "print(ra.value, dec.value)"
   ]
  },
  {
   "cell_type": "markdown",
   "id": "f47e58d6-e7d2-4235-9267-f3a4db6330ca",
   "metadata": {},
   "source": [
    "We can also find its location in galactic coordinates:"
   ]
  },
  {
   "cell_type": "code",
   "execution_count": null,
   "id": "87a7320f-2bb9-4cca-a32f-6921e240386a",
   "metadata": {},
   "outputs": [],
   "source": [
    "l = coords.galactic.l\n",
    "b = coords.galactic.b"
   ]
  },
  {
   "cell_type": "markdown",
   "id": "25908994-e381-4026-8f5f-4b9218fce66f",
   "metadata": {},
   "source": [
    "The Galactic Center has galactic coordinates $(l,b)=(0,0)$. By using `SkyCoord` to compute the pulsar's galactic coordinates, we can confirm what I said at the beginning: it's near the Galactic Center."
   ]
  },
  {
   "cell_type": "markdown",
   "id": "b16b9d46-2aa5-414e-b107-f110ff3b9b10",
   "metadata": {},
   "source": [
    "One very famous pulsar in that area of the sky is SGR J1745-2900, better know as the Galactic Center magnetar. It has a right ascension of 17:45:40.16 and a declination of -29:00:29.8. As an exercise, find the angular distance in the sky between J1745 and our hypothetical pulsar. To start, create a `SkyCoord` object representing the magnetar; then use the `separation` method. As a hint regarding usage: if you have two `SkyCoord` objects, `coords_1` and `coords_2`, you can find the angular distance between them using `coords_1.separation(coords_2)` (or, if you'd like, `coords_2.separation(coords_1)`."
   ]
  },
  {
   "cell_type": "code",
   "execution_count": null,
   "id": "0ffc2213-a89f-4f35-b5ff-c9c3d2dbca17",
   "metadata": {},
   "outputs": [],
   "source": []
  },
  {
   "cell_type": "markdown",
   "id": "ea6ec032-92f9-4cbe-b0f3-a77b01be8fce",
   "metadata": {},
   "source": [
    "To practice more with coordinates in astropy, set up a `SkyCoord` object for a hypothetical pulsar in Galactic Anticenter -- in the exact opposite location of the sky as the Galactic Center. As a hint: specify the location using galactic coordinates, with `frame` being `'galactic'` and the units being degrees (`u.deg`) for both coordinates."
   ]
  },
  {
   "cell_type": "code",
   "execution_count": null,
   "id": "c5f4e4e5-bf69-4876-ab28-dbcd1331a195",
   "metadata": {},
   "outputs": [],
   "source": []
  },
  {
   "cell_type": "markdown",
   "id": "630a314e-2082-49d0-bc99-1a5088ca725c",
   "metadata": {},
   "source": [
    "# Advanced topics 1: Lomb-Scargle periodogram\n",
    "\n",
    "Astropy has plenty of other really handy tools that have narrower applications. One is its implementation of the Lomb-Scargle periodogram, which is used to search for periodicities in unevenly-sampled data.\n",
    "\n",
    "Let's say we're observing a mysterious object that emits a radio signal that varies in time, and we want to see whether that signal is periodic. We would normally search for periodicities using a Fourier transform; unfortunately, astronomical observations tend to be taken erratically, making it difficult to use a Fourier transform. The Lomb-Scargle periodogram is a variant that still works in these cases.\n",
    "\n",
    "First, we set up our simulated signal. Unbeknownst to us in advance, it consists of a sinusoid with a period of 200 days."
   ]
  },
  {
   "cell_type": "code",
   "execution_count": null,
   "id": "9d9a7705-0d33-45e7-a441-5296b7640f94",
   "metadata": {},
   "outputs": [],
   "source": [
    "def sine_signal(t):\n",
    "    mean = 1\n",
    "    \n",
    "    amp = 1\n",
    "    period = 200\n",
    "    offset = 0\n",
    "    \n",
    "    return mean + amp*np.sin(2*np.pi*t/period + offset)"
   ]
  },
  {
   "cell_type": "markdown",
   "id": "2112456a-e85d-42e3-bedd-110f0780bc0a",
   "metadata": {},
   "source": [
    "We pick a bunch of random times (using the Modified Julian Date system) corresponding to our observations, and then add in white noise (i.e. random variations that are not correlated in time):"
   ]
  },
  {
   "cell_type": "code",
   "execution_count": null,
   "id": "df684892-5765-42c4-ad1b-51ac7c0c10db",
   "metadata": {},
   "outputs": [],
   "source": [
    "num_obs = 50\n",
    "MJDs = np.sort(np.random.uniform(60000, 60700, num_obs))\n",
    "\n",
    "signal = sine_signal(MJDs)\n",
    "\n",
    "noise = np.random.normal(loc=0, scale=0.25, size=num_obs)\n",
    "\n",
    "obs_signal = signal + noise\n",
    "\n",
    "plt.plot(MJDs, obs_signal, 'k.')\n",
    "plt.xlabel('Date (MJD)')\n",
    "plt.ylabel('Signal (unitless)')\n",
    "plt.show()"
   ]
  },
  {
   "cell_type": "markdown",
   "id": "b860e4fc-ee99-4cd1-86ac-f69bf0e39e2d",
   "metadata": {},
   "source": [
    "Now we compute a Lomb-Scargle periodogram, from the `astropy.timeseries` module. The full documentation can be found [here](https://docs.astropy.org/en/stable/timeseries/lombscargle.html). A periodic signal should generate a periodogram with a peak at the frequency of the signal."
   ]
  },
  {
   "cell_type": "code",
   "execution_count": null,
   "id": "a7d8034a-83dc-4e1c-9983-b8e0f6901a2b",
   "metadata": {},
   "outputs": [],
   "source": [
    "from astropy.timeseries import LombScargle\n",
    "\n",
    "frequency, power = LombScargle(MJDs, obs_signal).autopower()\n",
    "\n",
    "plt.plot(frequency, power, 'k')\n",
    "plt.axvline(x=1/200, linestyle='--')\n",
    "plt.xlabel('Frequency (1 day$^{-1}$)')\n",
    "plt.ylabel('Power')\n",
    "plt.show()\n",
    "\n",
    "print('Periodicity at {} days.'.format(1/frequency[(power == np.max(power))][0]))"
   ]
  },
  {
   "cell_type": "markdown",
   "id": "f3d74fd5-5013-4052-a1c3-1a5d9339bd2f",
   "metadata": {},
   "source": [
    "We see a big spike right near the frequency of 1/(200 days)! That's strong evidence of a periodic signal -- even though it wasn't that obvious when we plotted the signal.\n",
    "\n",
    "The `.autopower()` option means that `LombScargle` will automatically pick the frequencies to search over. However, we could, if we wanted, pick our own frequency range to search, then compute a periodogram using `.power()` instead of `.autopower()`:"
   ]
  },
  {
   "cell_type": "code",
   "execution_count": null,
   "id": "757c3a6b-1181-4843-ae9d-be81da925114",
   "metadata": {},
   "outputs": [],
   "source": [
    "new_frequency = np.linspace(0.002, 0.05, 1000)\n",
    "new_power = LombScargle(MJDs, obs_signal).power(new_frequency)\n",
    "\n",
    "plt.plot(new_frequency, new_power, 'k')\n",
    "plt.axvline(x=1/200, linestyle='--')\n",
    "plt.xlabel('Frequency (1 day$^{-1}$)')\n",
    "plt.ylabel('Power')\n",
    "plt.show()"
   ]
  },
  {
   "cell_type": "markdown",
   "id": "766810d2-a76f-434c-9eaa-9666ba02bc57",
   "metadata": {},
   "source": [
    "There are very specific ways to calculate the right range of frequencies to search, which we won't get into here.\n",
    "\n",
    "You might be wondering how we calculate the statistical significance of peaks in a periodogram. There are several other peaks in our plots; why shouldn't we believe them? Similarly, why *should* we believe that the highest peak is real?\n",
    "\n",
    "To answer these questions, we're going to use a technique called bootstrapping. Say we know that a given peak in our periodogram has a height $H$. We want to calculate the significance of that peak. We do so by carrying out the following procedure a bunch of times:\n",
    "1. Create a new, fake signal generated by randomly rearranging the values assigned to each day. This signal consists of random noise.\n",
    "2. Compute the Lomb-Scargle periodogram of that signal.\n",
    "3. Calculate the highest point on that periodogram, and denote its height $H_i$.\n",
    "\n",
    "After following through those steps many times, we can assign a significance called a $p$-value to our original peak. Here, the $p$-value is the fraction of the fake signals with $H_i$ greater than or equal to $H$. For instance, if we randomize the data 100 times and 66 of them have $H_i\\geq H$, we would say that the $p$-value is $66/100=0.66$. Typically, we want $p$ to be below a certain threshold to say that the peak is significant. $0.05$ is a common choice in some scenarios. Since $0.66$ is much greater than $0.05$, we conclude that this peak is not significant.\n",
    "\n",
    "Let's calculate a $p$-value for the periodicity we found, using `.autopower()` and $n=10000$ simulations. Here are some hints to help you:\n",
    "- You can find the maximum value of an array using `np.max()`.\n",
    "- You can create a shuffled copy of `obs_signal` with `fake_signal = np.copy(obs_signal)` and then `np.random.shuffle(fake_signal)`.\n",
    "\n",
    "Keep in mind that the peak might be so strong that none of the simulations produce a peak that high!"
   ]
  },
  {
   "cell_type": "code",
   "execution_count": null,
   "id": "89be1b67-a0e3-4069-ba45-88972595d3b5",
   "metadata": {},
   "outputs": [],
   "source": []
  }
 ],
 "metadata": {
  "kernelspec": {
   "display_name": "Python 3 (ipykernel)",
   "language": "python",
   "name": "python3"
  },
  "language_info": {
   "codemirror_mode": {
    "name": "ipython",
    "version": 3
   },
   "file_extension": ".py",
   "mimetype": "text/x-python",
   "name": "python",
   "nbconvert_exporter": "python",
   "pygments_lexer": "ipython3",
   "version": "3.10.6"
  }
 },
 "nbformat": 4,
 "nbformat_minor": 5
}
